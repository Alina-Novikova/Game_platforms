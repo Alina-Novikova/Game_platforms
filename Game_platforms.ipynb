{
 "cells": [
  {
   "cell_type": "markdown",
   "id": "05353029",
   "metadata": {},
   "source": [
    "# Сборный проект № 1. Исследование продаж игр для ПК и игровых консолей"
   ]
  },
  {
   "cell_type": "markdown",
   "id": "43ff853e",
   "metadata": {},
   "source": [
    "   Анализ интернет-магазина «Стримчик», который продаёт по всему миру компьютерные игры. Из открытых источников доступны исторические данные о продажах игр, оценки пользователей и экспертов, жанры и платформы (например, Xbox или PlayStation).   \n",
    "Выявим определяющие успешность игры закономерности. Это позволит сделать ставку на потенциально популярный продукт и спланировать рекламные кампании.  \n",
    "  \n",
    "  В наборе данных попадается аббревиатура ESRB (Entertainment Software Rating Board) — это ассоциация, определяющая возрастной рейтинг компьютерных игр. ESRB оценивает игровой контент и присваивает ему подходящую возрастную категорию, например, «Для взрослых», «Для детей младшего возраста» или «Для подростков».  \n",
    "  В работе - данные до 2016 года.   \n",
    "  В датасете представлены следующие данные:\n",
    "  Name\tPlatform - игровая платформа;  \n",
    "  Year_of_Release - год выхода игры;  \n",
    "  Genre - жанры;  \n",
    "  NA_sales - продажи в Северной Америке;  \n",
    "  EU_sales - продажи в Европе;  \n",
    "  JP_sales - продажи в Японии;  \n",
    "  Other_sales - продажи на других континетах (странах);  \n",
    "  Critic_Score - оценка проф. критиков;  \n",
    "  User_Score - оценка пользователей;  \n",
    "  Rating - рейтинг от организации ESRB (англ. Entertainment Software Rating Board). Эта ассоциация определяет рейтинг компьютерных игр и присваивает им подходящую возрастную категорию."
   ]
  },
  {
   "cell_type": "markdown",
   "id": "32068de0",
   "metadata": {},
   "source": [
    "Аналитическую работу проведем в несколько этапов:  \n",
    "1. Подготовим данные к исследованию;\n",
    "2. Проведем исследовательский анализ данных;  \n",
    "3. Составим портрет пользователя каждого региона;  \n",
    "4. Выдвинем и проверим несколько гипотез."
   ]
  },
  {
   "cell_type": "code",
   "execution_count": 1,
   "id": "e4552273",
   "metadata": {},
   "outputs": [],
   "source": [
    "import pandas as pd\n",
    "import numpy as np\n",
    "import matplotlib.pyplot as plt\n",
    "import seaborn as sns\n",
    "import math\n",
    "from scipy import stats as st\n",
    "from io import BytesIO\n",
    "import requests"
   ]
  },
  {
   "cell_type": "markdown",
   "id": "d3870152",
   "metadata": {},
   "source": [
    "### Шаг 1. Загрузка данных"
   ]
  },
  {
   "cell_type": "markdown",
   "id": "262aa257",
   "metadata": {},
   "source": [
    "Ознакомимся с представленными данными."
   ]
  },
  {
   "cell_type": "code",
   "execution_count": 2,
   "id": "95250234",
   "metadata": {},
   "outputs": [
    {
     "data": {
      "text/html": [
       "<div>\n",
       "<style scoped>\n",
       "    .dataframe tbody tr th:only-of-type {\n",
       "        vertical-align: middle;\n",
       "    }\n",
       "\n",
       "    .dataframe tbody tr th {\n",
       "        vertical-align: top;\n",
       "    }\n",
       "\n",
       "    .dataframe thead th {\n",
       "        text-align: right;\n",
       "    }\n",
       "</style>\n",
       "<table border=\"1\" class=\"dataframe\">\n",
       "  <thead>\n",
       "    <tr style=\"text-align: right;\">\n",
       "      <th></th>\n",
       "      <th>Name</th>\n",
       "      <th>Platform</th>\n",
       "      <th>Year_of_Release</th>\n",
       "      <th>Genre</th>\n",
       "      <th>NA_sales</th>\n",
       "      <th>EU_sales</th>\n",
       "      <th>JP_sales</th>\n",
       "      <th>Other_sales</th>\n",
       "      <th>Critic_Score</th>\n",
       "      <th>User_Score</th>\n",
       "      <th>Rating</th>\n",
       "    </tr>\n",
       "  </thead>\n",
       "  <tbody>\n",
       "    <tr>\n",
       "      <th>0</th>\n",
       "      <td>Wii Sports</td>\n",
       "      <td>Wii</td>\n",
       "      <td>2006.0</td>\n",
       "      <td>Sports</td>\n",
       "      <td>41.36</td>\n",
       "      <td>28.96</td>\n",
       "      <td>3.77</td>\n",
       "      <td>8.45</td>\n",
       "      <td>76.0</td>\n",
       "      <td>8</td>\n",
       "      <td>E</td>\n",
       "    </tr>\n",
       "    <tr>\n",
       "      <th>1</th>\n",
       "      <td>Super Mario Bros.</td>\n",
       "      <td>NES</td>\n",
       "      <td>1985.0</td>\n",
       "      <td>Platform</td>\n",
       "      <td>29.08</td>\n",
       "      <td>3.58</td>\n",
       "      <td>6.81</td>\n",
       "      <td>0.77</td>\n",
       "      <td>NaN</td>\n",
       "      <td>NaN</td>\n",
       "      <td>NaN</td>\n",
       "    </tr>\n",
       "    <tr>\n",
       "      <th>2</th>\n",
       "      <td>Mario Kart Wii</td>\n",
       "      <td>Wii</td>\n",
       "      <td>2008.0</td>\n",
       "      <td>Racing</td>\n",
       "      <td>15.68</td>\n",
       "      <td>12.76</td>\n",
       "      <td>3.79</td>\n",
       "      <td>3.29</td>\n",
       "      <td>82.0</td>\n",
       "      <td>8.3</td>\n",
       "      <td>E</td>\n",
       "    </tr>\n",
       "    <tr>\n",
       "      <th>3</th>\n",
       "      <td>Wii Sports Resort</td>\n",
       "      <td>Wii</td>\n",
       "      <td>2009.0</td>\n",
       "      <td>Sports</td>\n",
       "      <td>15.61</td>\n",
       "      <td>10.93</td>\n",
       "      <td>3.28</td>\n",
       "      <td>2.95</td>\n",
       "      <td>80.0</td>\n",
       "      <td>8</td>\n",
       "      <td>E</td>\n",
       "    </tr>\n",
       "    <tr>\n",
       "      <th>4</th>\n",
       "      <td>Pokemon Red/Pokemon Blue</td>\n",
       "      <td>GB</td>\n",
       "      <td>1996.0</td>\n",
       "      <td>Role-Playing</td>\n",
       "      <td>11.27</td>\n",
       "      <td>8.89</td>\n",
       "      <td>10.22</td>\n",
       "      <td>1.00</td>\n",
       "      <td>NaN</td>\n",
       "      <td>NaN</td>\n",
       "      <td>NaN</td>\n",
       "    </tr>\n",
       "    <tr>\n",
       "      <th>5</th>\n",
       "      <td>Tetris</td>\n",
       "      <td>GB</td>\n",
       "      <td>1989.0</td>\n",
       "      <td>Puzzle</td>\n",
       "      <td>23.20</td>\n",
       "      <td>2.26</td>\n",
       "      <td>4.22</td>\n",
       "      <td>0.58</td>\n",
       "      <td>NaN</td>\n",
       "      <td>NaN</td>\n",
       "      <td>NaN</td>\n",
       "    </tr>\n",
       "    <tr>\n",
       "      <th>6</th>\n",
       "      <td>New Super Mario Bros.</td>\n",
       "      <td>DS</td>\n",
       "      <td>2006.0</td>\n",
       "      <td>Platform</td>\n",
       "      <td>11.28</td>\n",
       "      <td>9.14</td>\n",
       "      <td>6.50</td>\n",
       "      <td>2.88</td>\n",
       "      <td>89.0</td>\n",
       "      <td>8.5</td>\n",
       "      <td>E</td>\n",
       "    </tr>\n",
       "    <tr>\n",
       "      <th>7</th>\n",
       "      <td>Wii Play</td>\n",
       "      <td>Wii</td>\n",
       "      <td>2006.0</td>\n",
       "      <td>Misc</td>\n",
       "      <td>13.96</td>\n",
       "      <td>9.18</td>\n",
       "      <td>2.93</td>\n",
       "      <td>2.84</td>\n",
       "      <td>58.0</td>\n",
       "      <td>6.6</td>\n",
       "      <td>E</td>\n",
       "    </tr>\n",
       "    <tr>\n",
       "      <th>8</th>\n",
       "      <td>New Super Mario Bros. Wii</td>\n",
       "      <td>Wii</td>\n",
       "      <td>2009.0</td>\n",
       "      <td>Platform</td>\n",
       "      <td>14.44</td>\n",
       "      <td>6.94</td>\n",
       "      <td>4.70</td>\n",
       "      <td>2.24</td>\n",
       "      <td>87.0</td>\n",
       "      <td>8.4</td>\n",
       "      <td>E</td>\n",
       "    </tr>\n",
       "    <tr>\n",
       "      <th>9</th>\n",
       "      <td>Duck Hunt</td>\n",
       "      <td>NES</td>\n",
       "      <td>1984.0</td>\n",
       "      <td>Shooter</td>\n",
       "      <td>26.93</td>\n",
       "      <td>0.63</td>\n",
       "      <td>0.28</td>\n",
       "      <td>0.47</td>\n",
       "      <td>NaN</td>\n",
       "      <td>NaN</td>\n",
       "      <td>NaN</td>\n",
       "    </tr>\n",
       "  </tbody>\n",
       "</table>\n",
       "</div>"
      ],
      "text/plain": [
       "                        Name Platform  Year_of_Release         Genre  \\\n",
       "0                 Wii Sports      Wii           2006.0        Sports   \n",
       "1          Super Mario Bros.      NES           1985.0      Platform   \n",
       "2             Mario Kart Wii      Wii           2008.0        Racing   \n",
       "3          Wii Sports Resort      Wii           2009.0        Sports   \n",
       "4   Pokemon Red/Pokemon Blue       GB           1996.0  Role-Playing   \n",
       "5                     Tetris       GB           1989.0        Puzzle   \n",
       "6      New Super Mario Bros.       DS           2006.0      Platform   \n",
       "7                   Wii Play      Wii           2006.0          Misc   \n",
       "8  New Super Mario Bros. Wii      Wii           2009.0      Platform   \n",
       "9                  Duck Hunt      NES           1984.0       Shooter   \n",
       "\n",
       "   NA_sales  EU_sales  JP_sales  Other_sales  Critic_Score User_Score Rating  \n",
       "0     41.36     28.96      3.77         8.45          76.0          8      E  \n",
       "1     29.08      3.58      6.81         0.77           NaN        NaN    NaN  \n",
       "2     15.68     12.76      3.79         3.29          82.0        8.3      E  \n",
       "3     15.61     10.93      3.28         2.95          80.0          8      E  \n",
       "4     11.27      8.89     10.22         1.00           NaN        NaN    NaN  \n",
       "5     23.20      2.26      4.22         0.58           NaN        NaN    NaN  \n",
       "6     11.28      9.14      6.50         2.88          89.0        8.5      E  \n",
       "7     13.96      9.18      2.93         2.84          58.0        6.6      E  \n",
       "8     14.44      6.94      4.70         2.24          87.0        8.4      E  \n",
       "9     26.93      0.63      0.28         0.47           NaN        NaN    NaN  "
      ]
     },
     "metadata": {},
     "output_type": "display_data"
    }
   ],
   "source": [
    "spreadsheet_id = '1KO3VWmcpwBTcFxsAOUCbv8tm10ckWv9PNreQwqmfPUc'\n",
    "file_name = 'https://docs.google.com/spreadsheets/d/{}/export?format=csv'.format(spreadsheet_id)\n",
    "r = requests.get(file_name)\n",
    "data = pd.read_csv(BytesIO(r.content))\n",
    "display(data.head(10))"
   ]
  },
  {
   "cell_type": "markdown",
   "id": "e2d70d42",
   "metadata": {},
   "source": [
    "### Шаг 2. Предобработка данных"
   ]
  },
  {
   "cell_type": "markdown",
   "id": "b364864c",
   "metadata": {},
   "source": [
    "1. Проведем предобработку данных. Для этого изучим общую информацию о содержимом датафрейма."
   ]
  },
  {
   "cell_type": "code",
   "execution_count": 3,
   "id": "4b8ee328",
   "metadata": {},
   "outputs": [
    {
     "name": "stdout",
     "output_type": "stream",
     "text": [
      "<class 'pandas.core.frame.DataFrame'>\n",
      "RangeIndex: 16715 entries, 0 to 16714\n",
      "Data columns (total 11 columns):\n",
      " #   Column           Non-Null Count  Dtype  \n",
      "---  ------           --------------  -----  \n",
      " 0   Name             16713 non-null  object \n",
      " 1   Platform         16715 non-null  object \n",
      " 2   Year_of_Release  16446 non-null  float64\n",
      " 3   Genre            16713 non-null  object \n",
      " 4   NA_sales         16715 non-null  float64\n",
      " 5   EU_sales         16715 non-null  float64\n",
      " 6   JP_sales         16715 non-null  float64\n",
      " 7   Other_sales      16715 non-null  float64\n",
      " 8   Critic_Score     8137 non-null   float64\n",
      " 9   User_Score       10014 non-null  object \n",
      " 10  Rating           9949 non-null   object \n",
      "dtypes: float64(6), object(5)\n",
      "memory usage: 1.4+ MB\n"
     ]
    }
   ],
   "source": [
    "data.info()"
   ]
  },
  {
   "cell_type": "markdown",
   "id": "d67d995b",
   "metadata": {},
   "source": [
    "Датасет содержит сведения о 16713 играх, вышедших в разное время.  "
   ]
  },
  {
   "cell_type": "markdown",
   "id": "6f03afee",
   "metadata": {},
   "source": [
    "2. Нужно привести наименование колонок к \"змеиному регистру\""
   ]
  },
  {
   "cell_type": "code",
   "execution_count": 4,
   "id": "5c210825",
   "metadata": {},
   "outputs": [],
   "source": [
    "data = data.rename(columns={'Name':'name', 'Platform':'platform', 'Year_of_Release':'year_of_release',\n",
    "                            'Genre':'genre', 'Other_sales':'other_sales', 'Critic_Score':'critic_score',\n",
    "                            'User_Score':'user_score', 'Rating':'rating'})"
   ]
  },
  {
   "cell_type": "markdown",
   "id": "b27e10e9",
   "metadata": {},
   "source": [
    "2. Проверим данные на отсутсвующие значения."
   ]
  },
  {
   "cell_type": "code",
   "execution_count": 5,
   "id": "a21218a0",
   "metadata": {},
   "outputs": [
    {
     "data": {
      "text/html": [
       "<style  type=\"text/css\" >\n",
       "#T_f8be0_row0_col0,#T_f8be0_row1_col0,#T_f8be0_row3_col0,#T_f8be0_row4_col0,#T_f8be0_row5_col0,#T_f8be0_row6_col0,#T_f8be0_row7_col0{\n",
       "            background-color:  #3b4cc0;\n",
       "            color:  #f1f1f1;\n",
       "        }#T_f8be0_row2_col0{\n",
       "            background-color:  #4358cb;\n",
       "            color:  #f1f1f1;\n",
       "        }#T_f8be0_row8_col0{\n",
       "            background-color:  #b40426;\n",
       "            color:  #f1f1f1;\n",
       "        }#T_f8be0_row9_col0{\n",
       "            background-color:  #f08b6e;\n",
       "            color:  #000000;\n",
       "        }#T_f8be0_row10_col0{\n",
       "            background-color:  #ef886b;\n",
       "            color:  #000000;\n",
       "        }</style><table id=\"T_f8be0_\" ><thead>    <tr>        <th class=\"blank level0\" ></th>        <th class=\"col_heading level0 col0\" >0</th>    </tr></thead><tbody>\n",
       "                <tr>\n",
       "                        <th id=\"T_f8be0_level0_row0\" class=\"row_heading level0 row0\" >name</th>\n",
       "                        <td id=\"T_f8be0_row0_col0\" class=\"data row0 col0\" >0.000000</td>\n",
       "            </tr>\n",
       "            <tr>\n",
       "                        <th id=\"T_f8be0_level0_row1\" class=\"row_heading level0 row1\" >platform</th>\n",
       "                        <td id=\"T_f8be0_row1_col0\" class=\"data row1 col0\" >0.000000</td>\n",
       "            </tr>\n",
       "            <tr>\n",
       "                        <th id=\"T_f8be0_level0_row2\" class=\"row_heading level0 row2\" >year_of_release</th>\n",
       "                        <td id=\"T_f8be0_row2_col0\" class=\"data row2 col0\" >1.600000</td>\n",
       "            </tr>\n",
       "            <tr>\n",
       "                        <th id=\"T_f8be0_level0_row3\" class=\"row_heading level0 row3\" >genre</th>\n",
       "                        <td id=\"T_f8be0_row3_col0\" class=\"data row3 col0\" >0.000000</td>\n",
       "            </tr>\n",
       "            <tr>\n",
       "                        <th id=\"T_f8be0_level0_row4\" class=\"row_heading level0 row4\" >NA_sales</th>\n",
       "                        <td id=\"T_f8be0_row4_col0\" class=\"data row4 col0\" >0.000000</td>\n",
       "            </tr>\n",
       "            <tr>\n",
       "                        <th id=\"T_f8be0_level0_row5\" class=\"row_heading level0 row5\" >EU_sales</th>\n",
       "                        <td id=\"T_f8be0_row5_col0\" class=\"data row5 col0\" >0.000000</td>\n",
       "            </tr>\n",
       "            <tr>\n",
       "                        <th id=\"T_f8be0_level0_row6\" class=\"row_heading level0 row6\" >JP_sales</th>\n",
       "                        <td id=\"T_f8be0_row6_col0\" class=\"data row6 col0\" >0.000000</td>\n",
       "            </tr>\n",
       "            <tr>\n",
       "                        <th id=\"T_f8be0_level0_row7\" class=\"row_heading level0 row7\" >other_sales</th>\n",
       "                        <td id=\"T_f8be0_row7_col0\" class=\"data row7 col0\" >0.000000</td>\n",
       "            </tr>\n",
       "            <tr>\n",
       "                        <th id=\"T_f8be0_level0_row8\" class=\"row_heading level0 row8\" >critic_score</th>\n",
       "                        <td id=\"T_f8be0_row8_col0\" class=\"data row8 col0\" >51.300000</td>\n",
       "            </tr>\n",
       "            <tr>\n",
       "                        <th id=\"T_f8be0_level0_row9\" class=\"row_heading level0 row9\" >user_score</th>\n",
       "                        <td id=\"T_f8be0_row9_col0\" class=\"data row9 col0\" >40.100000</td>\n",
       "            </tr>\n",
       "            <tr>\n",
       "                        <th id=\"T_f8be0_level0_row10\" class=\"row_heading level0 row10\" >rating</th>\n",
       "                        <td id=\"T_f8be0_row10_col0\" class=\"data row10 col0\" >40.500000</td>\n",
       "            </tr>\n",
       "    </tbody></table>"
      ],
      "text/plain": [
       "<pandas.io.formats.style.Styler at 0x7f971f3ebc10>"
      ]
     },
     "execution_count": 5,
     "metadata": {},
     "output_type": "execute_result"
    }
   ],
   "source": [
    "pd.DataFrame(round(data.isna().mean()*100,1)).style.background_gradient('coolwarm')"
   ]
  },
  {
   "cell_type": "code",
   "execution_count": 6,
   "id": "d7892c4f",
   "metadata": {},
   "outputs": [
    {
     "data": {
      "text/plain": [
       "name                  2\n",
       "platform              0\n",
       "year_of_release     269\n",
       "genre                 2\n",
       "NA_sales              0\n",
       "EU_sales              0\n",
       "JP_sales              0\n",
       "other_sales           0\n",
       "critic_score       8578\n",
       "user_score         6701\n",
       "rating             6766\n",
       "dtype: int64"
      ]
     },
     "execution_count": 6,
     "metadata": {},
     "output_type": "execute_result"
    }
   ],
   "source": [
    "data.isna().sum()"
   ]
  },
  {
   "cell_type": "markdown",
   "id": "7ee606e7",
   "metadata": {},
   "source": [
    "В 2 случаях отсутсвует наименование игры. Т.к. наименование не является важным критерием при проведении исследования, заменим отсутсвующие имена значениеь 'name'."
   ]
  },
  {
   "cell_type": "code",
   "execution_count": 7,
   "id": "742fe237",
   "metadata": {},
   "outputs": [],
   "source": [
    "data['name'] = data['name'].fillna('name')"
   ]
  },
  {
   "cell_type": "markdown",
   "id": "01687942",
   "metadata": {},
   "source": [
    "В столбце \"Year_of_Release\" пропущено 269 значений. Эти данные необходимы для исследования. Но заполнить их какими-либо значениями нет возможности, т.к. нет достоверных сведений. Так же пропущено 2 значения о жанре игры. Удалим эти строки. Потеря данных будет не существенной."
   ]
  },
  {
   "cell_type": "code",
   "execution_count": 8,
   "id": "f1b1a585",
   "metadata": {},
   "outputs": [],
   "source": [
    "data = data.dropna(subset=['year_of_release', 'genre'])"
   ]
  },
  {
   "cell_type": "code",
   "execution_count": 9,
   "id": "d93dca74",
   "metadata": {},
   "outputs": [
    {
     "data": {
      "text/plain": [
       "name                  0\n",
       "platform              0\n",
       "year_of_release       0\n",
       "genre                 0\n",
       "NA_sales              0\n",
       "EU_sales              0\n",
       "JP_sales              0\n",
       "other_sales           0\n",
       "critic_score       8461\n",
       "user_score         6605\n",
       "rating             6676\n",
       "dtype: int64"
      ]
     },
     "execution_count": 9,
     "metadata": {},
     "output_type": "execute_result"
    }
   ],
   "source": [
    "data.isna().sum()"
   ]
  },
  {
   "cell_type": "markdown",
   "id": "5bbdbecf",
   "metadata": {},
   "source": [
    "3. Так же заменим тип данных в столбце 'year_of_release' с float64 на int, т.к. год выхода - это целое число. "
   ]
  },
  {
   "cell_type": "code",
   "execution_count": 10,
   "id": "d540a724",
   "metadata": {},
   "outputs": [],
   "source": [
    "data['year_of_release'] = data['year_of_release'].astype(int)"
   ]
  },
  {
   "cell_type": "markdown",
   "id": "5631965f",
   "metadata": {},
   "source": [
    "4. Ознакомимся с уникальными значениями столбца 'user_score': "
   ]
  },
  {
   "cell_type": "code",
   "execution_count": 11,
   "id": "cf909fde",
   "metadata": {},
   "outputs": [
    {
     "data": {
      "text/plain": [
       "array(['8', nan, '8.3', '8.5', '6.6', '8.4', '8.6', '7.7', '6.3', '7.4',\n",
       "       '8.2', '9', '7.9', '8.1', '8.7', '7.1', '3.4', '5.3', '4.8', '3.2',\n",
       "       '8.9', '6.4', '7.8', '7.5', '2.6', '7.2', '9.2', '7', '7.3', '4.3',\n",
       "       '7.6', '5.7', '5', '9.1', '6.5', 'tbd', '8.8', '6.9', '9.4', '6.8',\n",
       "       '6.1', '6.7', '5.4', '4', '4.9', '4.5', '9.3', '6.2', '4.2', '6',\n",
       "       '3.7', '4.1', '5.8', '5.6', '5.5', '4.4', '4.6', '5.9', '3.9',\n",
       "       '3.1', '2.9', '5.2', '3.3', '4.7', '5.1', '3.5', '2.5', '1.9', '3',\n",
       "       '2.7', '2.2', '2', '9.5', '2.1', '3.6', '2.8', '1.8', '3.8', '0',\n",
       "       '1.6', '9.6', '2.4', '1.7', '1.1', '0.3', '1.5', '0.7', '1.2',\n",
       "       '2.3', '0.5', '1.3', '0.2', '0.6', '1.4', '0.9', '1', '9.7'],\n",
       "      dtype=object)"
      ]
     },
     "execution_count": 11,
     "metadata": {},
     "output_type": "execute_result"
    }
   ],
   "source": [
    "data['user_score'].unique()"
   ]
  },
  {
   "cell_type": "markdown",
   "id": "436efc3d",
   "metadata": {},
   "source": [
    "Помимо числовых значений и пропущенных значений Nan встречается значение tbd. Данная аббревиатура расшифровывается как \"To Be Determined\", то есть \"предстоит определить\". Видимо, система собрала недостаточно отзывов для выставления оценки. Предлагаю заменить такие значения на Nan, т.к. иных способов заполнить пропуск нет."
   ]
  },
  {
   "cell_type": "code",
   "execution_count": 12,
   "id": "d4901be5",
   "metadata": {},
   "outputs": [],
   "source": [
    "data['user_score'] = data['user_score'].replace('tbd', 'NaN')"
   ]
  },
  {
   "cell_type": "markdown",
   "id": "88606ee4",
   "metadata": {},
   "source": [
    "Сведения в столбце \"user_score\" сохранены в формате object . Для дальнейшего анализа преобразуем столбец в цифровой формат float64."
   ]
  },
  {
   "cell_type": "code",
   "execution_count": 13,
   "id": "71d0ff91",
   "metadata": {},
   "outputs": [],
   "source": [
    "data['user_score'] = pd.to_numeric(data['user_score'], errors='coerce')"
   ]
  },
  {
   "cell_type": "code",
   "execution_count": 14,
   "id": "d8eac5b6",
   "metadata": {},
   "outputs": [
    {
     "name": "stdout",
     "output_type": "stream",
     "text": [
      "<class 'pandas.core.frame.DataFrame'>\n",
      "Int64Index: 16444 entries, 0 to 16714\n",
      "Data columns (total 11 columns):\n",
      " #   Column           Non-Null Count  Dtype  \n",
      "---  ------           --------------  -----  \n",
      " 0   name             16444 non-null  object \n",
      " 1   platform         16444 non-null  object \n",
      " 2   year_of_release  16444 non-null  int64  \n",
      " 3   genre            16444 non-null  object \n",
      " 4   NA_sales         16444 non-null  float64\n",
      " 5   EU_sales         16444 non-null  float64\n",
      " 6   JP_sales         16444 non-null  float64\n",
      " 7   other_sales      16444 non-null  float64\n",
      " 8   critic_score     7983 non-null   float64\n",
      " 9   user_score       7463 non-null   float64\n",
      " 10  rating           9768 non-null   object \n",
      "dtypes: float64(6), int64(1), object(4)\n",
      "memory usage: 1.5+ MB\n"
     ]
    }
   ],
   "source": [
    "data.info()"
   ]
  },
  {
   "cell_type": "markdown",
   "id": "040827f9",
   "metadata": {},
   "source": [
    "5. Поскольку количество пропусков в колонках critic_score и user_score очень большое и причины пропусков могут быть обусловлены разными факторами, предлагаю отсутсвующие оценки критиков и пользователей заменить на 0, т.к. столбцы имеют колличественные данные. Очистка датафрейма от строк с пропущенными сведениями приведет к значительной потере данных (более 50%)."
   ]
  },
  {
   "cell_type": "code",
   "execution_count": 15,
   "id": "cd4ee7f9",
   "metadata": {},
   "outputs": [],
   "source": [
    "data['critic_score'] = data['critic_score'].fillna(0)\n",
    "data['user_score'] = data['user_score'].fillna(0)"
   ]
  },
  {
   "cell_type": "markdown",
   "id": "aaab6da8",
   "metadata": {},
   "source": [
    "6. Просмотрим уникальные значения колонки 'rating'"
   ]
  },
  {
   "cell_type": "code",
   "execution_count": 16,
   "id": "8f8b2534",
   "metadata": {},
   "outputs": [
    {
     "data": {
      "text/plain": [
       "array(['E', nan, 'M', 'T', 'E10+', 'K-A', 'AO', 'EC', 'RP'], dtype=object)"
      ]
     },
     "execution_count": 16,
     "metadata": {},
     "output_type": "execute_result"
    }
   ],
   "source": [
    "data['rating'].unique()"
   ]
  },
  {
   "cell_type": "markdown",
   "id": "b60f35d6",
   "metadata": {},
   "source": [
    "Столбец содержит буквенное обозначение рейтинга, присвоенного видеоигре организацией ESRB (всего 8 уникальных значений). Также столбец содержит пропуски (более 6600).  \n",
    "Из открытых источников ознакомимся с обозначениями рейтинга:  \n",
    "\n",
    "«EC» («Early childhood») — «Для детей младшего возраста»  \n",
    "«E» («Everyone») — «Для всех» (до 1998 года - \"K-A\" (\"Kids to Adults\"))  \n",
    "«E10+»(«Everyone 10 and older») — «Для всех от 10 лет и старше»  \n",
    "«T» («Teen») — «Подросткам»  \n",
    "«M»(«Mature») — «Для взрослых»  \n",
    "«AO» («Adults Only 18+») — «Только для взрослых»  \n",
    "«RP» («Rating Pending») — «Рейтинг ожидается»  \n",
    "\n",
    "Предлагаю восполнить пропущенные значения на «unknown» — «неизвестно»"
   ]
  },
  {
   "cell_type": "code",
   "execution_count": 17,
   "id": "4a97806e",
   "metadata": {},
   "outputs": [],
   "source": [
    "data['rating'] = data['rating'].fillna('unknown')"
   ]
  },
  {
   "cell_type": "code",
   "execution_count": 18,
   "id": "97fd4b2c",
   "metadata": {},
   "outputs": [
    {
     "data": {
      "text/plain": [
       "name               0\n",
       "platform           0\n",
       "year_of_release    0\n",
       "genre              0\n",
       "NA_sales           0\n",
       "EU_sales           0\n",
       "JP_sales           0\n",
       "other_sales        0\n",
       "critic_score       0\n",
       "user_score         0\n",
       "rating             0\n",
       "dtype: int64"
      ]
     },
     "execution_count": 18,
     "metadata": {},
     "output_type": "execute_result"
    }
   ],
   "source": [
    "data.isna().sum()"
   ]
  },
  {
   "cell_type": "markdown",
   "id": "77af3cf4",
   "metadata": {},
   "source": [
    "7. Исследуем данные на наличие дублирующих записей."
   ]
  },
  {
   "cell_type": "code",
   "execution_count": 19,
   "id": "3b334b5b",
   "metadata": {},
   "outputs": [
    {
     "data": {
      "text/plain": [
       "0"
      ]
     },
     "execution_count": 19,
     "metadata": {},
     "output_type": "execute_result"
    }
   ],
   "source": [
    "data.duplicated().sum()"
   ]
  },
  {
   "cell_type": "markdown",
   "id": "ee8135b4",
   "metadata": {},
   "source": [
    "Дубликаты не выявлены."
   ]
  },
  {
   "cell_type": "markdown",
   "id": "dd30e488",
   "metadata": {},
   "source": [
    "8. Добавим сведения в таблицу о сумме общих продаж по каждой игре"
   ]
  },
  {
   "cell_type": "code",
   "execution_count": 20,
   "id": "6c41a9fb",
   "metadata": {},
   "outputs": [
    {
     "data": {
      "text/html": [
       "<div>\n",
       "<style scoped>\n",
       "    .dataframe tbody tr th:only-of-type {\n",
       "        vertical-align: middle;\n",
       "    }\n",
       "\n",
       "    .dataframe tbody tr th {\n",
       "        vertical-align: top;\n",
       "    }\n",
       "\n",
       "    .dataframe thead th {\n",
       "        text-align: right;\n",
       "    }\n",
       "</style>\n",
       "<table border=\"1\" class=\"dataframe\">\n",
       "  <thead>\n",
       "    <tr style=\"text-align: right;\">\n",
       "      <th></th>\n",
       "      <th>name</th>\n",
       "      <th>platform</th>\n",
       "      <th>year_of_release</th>\n",
       "      <th>genre</th>\n",
       "      <th>NA_sales</th>\n",
       "      <th>EU_sales</th>\n",
       "      <th>JP_sales</th>\n",
       "      <th>other_sales</th>\n",
       "      <th>critic_score</th>\n",
       "      <th>user_score</th>\n",
       "      <th>rating</th>\n",
       "      <th>total_sales</th>\n",
       "    </tr>\n",
       "  </thead>\n",
       "  <tbody>\n",
       "    <tr>\n",
       "      <th>0</th>\n",
       "      <td>Wii Sports</td>\n",
       "      <td>Wii</td>\n",
       "      <td>2006</td>\n",
       "      <td>Sports</td>\n",
       "      <td>41.36</td>\n",
       "      <td>28.96</td>\n",
       "      <td>3.77</td>\n",
       "      <td>8.45</td>\n",
       "      <td>76.0</td>\n",
       "      <td>8.0</td>\n",
       "      <td>E</td>\n",
       "      <td>82.54</td>\n",
       "    </tr>\n",
       "    <tr>\n",
       "      <th>1</th>\n",
       "      <td>Super Mario Bros.</td>\n",
       "      <td>NES</td>\n",
       "      <td>1985</td>\n",
       "      <td>Platform</td>\n",
       "      <td>29.08</td>\n",
       "      <td>3.58</td>\n",
       "      <td>6.81</td>\n",
       "      <td>0.77</td>\n",
       "      <td>0.0</td>\n",
       "      <td>0.0</td>\n",
       "      <td>unknown</td>\n",
       "      <td>40.24</td>\n",
       "    </tr>\n",
       "    <tr>\n",
       "      <th>2</th>\n",
       "      <td>Mario Kart Wii</td>\n",
       "      <td>Wii</td>\n",
       "      <td>2008</td>\n",
       "      <td>Racing</td>\n",
       "      <td>15.68</td>\n",
       "      <td>12.76</td>\n",
       "      <td>3.79</td>\n",
       "      <td>3.29</td>\n",
       "      <td>82.0</td>\n",
       "      <td>8.3</td>\n",
       "      <td>E</td>\n",
       "      <td>35.52</td>\n",
       "    </tr>\n",
       "    <tr>\n",
       "      <th>3</th>\n",
       "      <td>Wii Sports Resort</td>\n",
       "      <td>Wii</td>\n",
       "      <td>2009</td>\n",
       "      <td>Sports</td>\n",
       "      <td>15.61</td>\n",
       "      <td>10.93</td>\n",
       "      <td>3.28</td>\n",
       "      <td>2.95</td>\n",
       "      <td>80.0</td>\n",
       "      <td>8.0</td>\n",
       "      <td>E</td>\n",
       "      <td>32.77</td>\n",
       "    </tr>\n",
       "    <tr>\n",
       "      <th>4</th>\n",
       "      <td>Pokemon Red/Pokemon Blue</td>\n",
       "      <td>GB</td>\n",
       "      <td>1996</td>\n",
       "      <td>Role-Playing</td>\n",
       "      <td>11.27</td>\n",
       "      <td>8.89</td>\n",
       "      <td>10.22</td>\n",
       "      <td>1.00</td>\n",
       "      <td>0.0</td>\n",
       "      <td>0.0</td>\n",
       "      <td>unknown</td>\n",
       "      <td>31.38</td>\n",
       "    </tr>\n",
       "  </tbody>\n",
       "</table>\n",
       "</div>"
      ],
      "text/plain": [
       "                       name platform  year_of_release         genre  NA_sales  \\\n",
       "0                Wii Sports      Wii             2006        Sports     41.36   \n",
       "1         Super Mario Bros.      NES             1985      Platform     29.08   \n",
       "2            Mario Kart Wii      Wii             2008        Racing     15.68   \n",
       "3         Wii Sports Resort      Wii             2009        Sports     15.61   \n",
       "4  Pokemon Red/Pokemon Blue       GB             1996  Role-Playing     11.27   \n",
       "\n",
       "   EU_sales  JP_sales  other_sales  critic_score  user_score   rating  \\\n",
       "0     28.96      3.77         8.45          76.0         8.0        E   \n",
       "1      3.58      6.81         0.77           0.0         0.0  unknown   \n",
       "2     12.76      3.79         3.29          82.0         8.3        E   \n",
       "3     10.93      3.28         2.95          80.0         8.0        E   \n",
       "4      8.89     10.22         1.00           0.0         0.0  unknown   \n",
       "\n",
       "   total_sales  \n",
       "0        82.54  \n",
       "1        40.24  \n",
       "2        35.52  \n",
       "3        32.77  \n",
       "4        31.38  "
      ]
     },
     "execution_count": 20,
     "metadata": {},
     "output_type": "execute_result"
    }
   ],
   "source": [
    "data['total_sales'] = data['NA_sales'] + data['EU_sales'] + data['JP_sales'] + data['other_sales']\n",
    "data.head()"
   ]
  },
  {
   "cell_type": "markdown",
   "id": "5b0302fd",
   "metadata": {},
   "source": [
    "Вывод:  \n",
    "Привели имена столбцов к общему регистру.  \n",
    "Проверили датафрейм на наличие дубликатов.    \n",
    "Удалили строки, не имеющие название игры и жанр.  \n",
    "Привели данные к нужным для анализа типам.  \n",
    "Заменили значение 'tbd'."
   ]
  },
  {
   "cell_type": "markdown",
   "id": "65548e56",
   "metadata": {},
   "source": [
    "Данные сохранены в корректных форматах и пригодны для дальнейшего анализа. "
   ]
  },
  {
   "cell_type": "markdown",
   "id": "816b2961",
   "metadata": {},
   "source": [
    "### Шаг 3. Исследовательский анализ данных"
   ]
  },
  {
   "cell_type": "markdown",
   "id": "a6845e05",
   "metadata": {},
   "source": [
    "1. Сколько игр выпускалось в разные годы. "
   ]
  },
  {
   "cell_type": "code",
   "execution_count": 21,
   "id": "2f54cadf",
   "metadata": {},
   "outputs": [
    {
     "data": {
      "image/png": "[encoded data removed]",
      "text/plain": [
       "<Figure size 432x288 with 1 Axes>"
      ]
     },
     "metadata": {
      "needs_background": "light"
     },
     "output_type": "display_data"
    }
   ],
   "source": [
    "data.pivot_table(index='year_of_release', values='name', aggfunc='count').plot(kind='bar')\n",
    "plt.ylabel('Количество выпущенных игр')\n",
    "plt.xlabel('год выпуска')\n",
    "plt.title('Гистограмма выпуска игр по годам')\n",
    "plt.show()"
   ]
  },
  {
   "cell_type": "markdown",
   "id": "70ade4c0",
   "metadata": {},
   "source": [
    "Активный рост выпуска игр начинается с 1995 года. Максимальный пик приходится на 2008-2009 г.г. Далее наблюдается спад."
   ]
  },
  {
   "cell_type": "markdown",
   "id": "bc1898fb",
   "metadata": {},
   "source": [
    "Важны ли данные за все периоды? - нет. Количество выпущенных игр до 1995 года - менее 500 штук, что составляет около 3% от общего числа релизов."
   ]
  },
  {
   "cell_type": "markdown",
   "id": "0627a198",
   "metadata": {},
   "source": [
    "Для дальнейшего анализа предлагаю  отсечь период до 2000 года, т.к. до 2000 года данные малоинформативны и не дают достаточных данных для анализа перспектив."
   ]
  },
  {
   "cell_type": "code",
   "execution_count": 22,
   "id": "ce844b3a",
   "metadata": {},
   "outputs": [],
   "source": [
    "data_2000 = data[data['year_of_release']>2000]"
   ]
  },
  {
   "cell_type": "markdown",
   "id": "6db8802a",
   "metadata": {},
   "source": [
    "2. Оценим, как менялись продажи по платформам. Выберем платформы с наибольшими суммарными продажами и построим распределение по годам.  Проанализируем, в какой характерный срок появляются новые и исчезают старые платформы."
   ]
  },
  {
   "cell_type": "code",
   "execution_count": 23,
   "id": "52784013",
   "metadata": {},
   "outputs": [
    {
     "data": {
      "image/png": "[encoded data removed]",
      "text/plain": [
       "<Figure size 432x288 with 1 Axes>"
      ]
     },
     "metadata": {
      "needs_background": "light"
     },
     "output_type": "display_data"
    }
   ],
   "source": [
    "platform_sales = data.pivot_table(index='platform', values='total_sales', aggfunc='sum').sort_values(by='total_sales')\n",
    "platform_sales.plot(kind='barh')\n",
    "plt.xlabel('Количество продаж')\n",
    "plt.ylabel('Платформа')\n",
    "plt.title('Количество продаж по платформам')\n",
    "plt.show()"
   ]
  },
  {
   "cell_type": "markdown",
   "id": "dfe1221b",
   "metadata": {},
   "source": [
    "Абсолютный лидер - PS2, так же в тройку лидеров входит Х360 и PS3. После 6й позиции заметен существенный спад в количестве продаж - это или непопулярные игровые платформы, или новые релизы от лидеров, которые еще не успели завоевать рынок."
   ]
  },
  {
   "cell_type": "markdown",
   "id": "ebe5df84",
   "metadata": {},
   "source": [
    "Отберем самые популярные платформы с максимальными продажами. Изучим распределение по годам. Исследуем период с 2001 по 2016 г.г."
   ]
  },
  {
   "cell_type": "code",
   "execution_count": 24,
   "id": "7aa45480",
   "metadata": {},
   "outputs": [
    {
     "data": {
      "text/html": [
       "<div>\n",
       "<style scoped>\n",
       "    .dataframe tbody tr th:only-of-type {\n",
       "        vertical-align: middle;\n",
       "    }\n",
       "\n",
       "    .dataframe tbody tr th {\n",
       "        vertical-align: top;\n",
       "    }\n",
       "\n",
       "    .dataframe thead th {\n",
       "        text-align: right;\n",
       "    }\n",
       "</style>\n",
       "<table border=\"1\" class=\"dataframe\">\n",
       "  <thead>\n",
       "    <tr style=\"text-align: right;\">\n",
       "      <th></th>\n",
       "      <th>name</th>\n",
       "      <th>platform</th>\n",
       "      <th>year_of_release</th>\n",
       "      <th>genre</th>\n",
       "      <th>NA_sales</th>\n",
       "      <th>EU_sales</th>\n",
       "      <th>JP_sales</th>\n",
       "      <th>other_sales</th>\n",
       "      <th>critic_score</th>\n",
       "      <th>user_score</th>\n",
       "      <th>rating</th>\n",
       "      <th>total_sales</th>\n",
       "    </tr>\n",
       "  </thead>\n",
       "  <tbody>\n",
       "    <tr>\n",
       "      <th>0</th>\n",
       "      <td>Wii Sports</td>\n",
       "      <td>Wii</td>\n",
       "      <td>2006</td>\n",
       "      <td>Sports</td>\n",
       "      <td>41.36</td>\n",
       "      <td>28.96</td>\n",
       "      <td>3.77</td>\n",
       "      <td>8.45</td>\n",
       "      <td>76.0</td>\n",
       "      <td>8.0</td>\n",
       "      <td>E</td>\n",
       "      <td>82.54</td>\n",
       "    </tr>\n",
       "    <tr>\n",
       "      <th>2</th>\n",
       "      <td>Mario Kart Wii</td>\n",
       "      <td>Wii</td>\n",
       "      <td>2008</td>\n",
       "      <td>Racing</td>\n",
       "      <td>15.68</td>\n",
       "      <td>12.76</td>\n",
       "      <td>3.79</td>\n",
       "      <td>3.29</td>\n",
       "      <td>82.0</td>\n",
       "      <td>8.3</td>\n",
       "      <td>E</td>\n",
       "      <td>35.52</td>\n",
       "    </tr>\n",
       "    <tr>\n",
       "      <th>3</th>\n",
       "      <td>Wii Sports Resort</td>\n",
       "      <td>Wii</td>\n",
       "      <td>2009</td>\n",
       "      <td>Sports</td>\n",
       "      <td>15.61</td>\n",
       "      <td>10.93</td>\n",
       "      <td>3.28</td>\n",
       "      <td>2.95</td>\n",
       "      <td>80.0</td>\n",
       "      <td>8.0</td>\n",
       "      <td>E</td>\n",
       "      <td>32.77</td>\n",
       "    </tr>\n",
       "    <tr>\n",
       "      <th>6</th>\n",
       "      <td>New Super Mario Bros.</td>\n",
       "      <td>DS</td>\n",
       "      <td>2006</td>\n",
       "      <td>Platform</td>\n",
       "      <td>11.28</td>\n",
       "      <td>9.14</td>\n",
       "      <td>6.50</td>\n",
       "      <td>2.88</td>\n",
       "      <td>89.0</td>\n",
       "      <td>8.5</td>\n",
       "      <td>E</td>\n",
       "      <td>29.80</td>\n",
       "    </tr>\n",
       "    <tr>\n",
       "      <th>7</th>\n",
       "      <td>Wii Play</td>\n",
       "      <td>Wii</td>\n",
       "      <td>2006</td>\n",
       "      <td>Misc</td>\n",
       "      <td>13.96</td>\n",
       "      <td>9.18</td>\n",
       "      <td>2.93</td>\n",
       "      <td>2.84</td>\n",
       "      <td>58.0</td>\n",
       "      <td>6.6</td>\n",
       "      <td>E</td>\n",
       "      <td>28.91</td>\n",
       "    </tr>\n",
       "  </tbody>\n",
       "</table>\n",
       "</div>"
      ],
      "text/plain": [
       "                    name platform  year_of_release     genre  NA_sales  \\\n",
       "0             Wii Sports      Wii             2006    Sports     41.36   \n",
       "2         Mario Kart Wii      Wii             2008    Racing     15.68   \n",
       "3      Wii Sports Resort      Wii             2009    Sports     15.61   \n",
       "6  New Super Mario Bros.       DS             2006  Platform     11.28   \n",
       "7               Wii Play      Wii             2006      Misc     13.96   \n",
       "\n",
       "   EU_sales  JP_sales  other_sales  critic_score  user_score rating  \\\n",
       "0     28.96      3.77         8.45          76.0         8.0      E   \n",
       "2     12.76      3.79         3.29          82.0         8.3      E   \n",
       "3     10.93      3.28         2.95          80.0         8.0      E   \n",
       "6      9.14      6.50         2.88          89.0         8.5      E   \n",
       "7      9.18      2.93         2.84          58.0         6.6      E   \n",
       "\n",
       "   total_sales  \n",
       "0        82.54  \n",
       "2        35.52  \n",
       "3        32.77  \n",
       "6        29.80  \n",
       "7        28.91  "
      ]
     },
     "execution_count": 24,
     "metadata": {},
     "output_type": "execute_result"
    }
   ],
   "source": [
    "platforms = data_2000[data_2000['platform'].isin(['PS2', 'X360', 'PS3', 'Wii', 'DS', 'PS'])]\n",
    "platforms.head()"
   ]
  },
  {
   "cell_type": "code",
   "execution_count": 25,
   "id": "98e26981",
   "metadata": {},
   "outputs": [
    {
     "data": {
      "image/png": "[encoded data removed]",
      "text/plain": [
       "<Figure size 720x432 with 1 Axes>"
      ]
     },
     "metadata": {
      "needs_background": "light"
     },
     "output_type": "display_data"
    }
   ],
   "source": [
    "platforms.pivot_table(index='year_of_release', columns='platform', values='total_sales', aggfunc='sum').plot(\n",
    "    kind='bar', figsize=(10, 6))\n",
    "plt.ylabel('Выручка от продаж')\n",
    "plt.xlabel('Год выпуска')\n",
    "plt.title('Количество продаж по платформам')\n",
    "plt.show()"
   ]
  },
  {
   "cell_type": "markdown",
   "id": "e99b44f6",
   "metadata": {},
   "source": [
    "Определенно можно заявить, что практически все игровые платформы в среднем существуют до 10 лет включительно. Пик популярности наступает примерно через 5 лет после релиза. Самые успешные из исследуемых платформ: Sony Play Station и XBOX, WII (у него был резкий скачок в 2009 году и такой же резкий провал) и DS.  \n",
    "Из всех этих платформ самой продаваемой по сумме продаж являлась Playstation2. На тот момент у неё не было конкурентоспособных аналогов, она в течение долгого времени занимала топовые позиции. \n"
   ]
  },
  {
   "cell_type": "markdown",
   "id": "0537c8fa",
   "metadata": {},
   "source": [
    "3. Определим актуальный период для дальнейшего исследования."
   ]
  },
  {
   "cell_type": "markdown",
   "id": "5eb1bfad",
   "metadata": {},
   "source": [
    "Для дальнейшего анализа выберем данные за последние 5 лет (с 2012 года), так как они максимально отражают изменяющиеся тенденции.\n",
    "Основной фактор — эти данные помогут построить прогноз на 2017 год."
   ]
  },
  {
   "cell_type": "code",
   "execution_count": 26,
   "id": "89058e23",
   "metadata": {},
   "outputs": [],
   "source": [
    "data_2012 = data[data['year_of_release']>=2012]"
   ]
  },
  {
   "cell_type": "code",
   "execution_count": 27,
   "id": "9d1aa9e4",
   "metadata": {},
   "outputs": [
    {
     "data": {
      "image/png": "[encoded data removed]",
      "text/plain": [
       "<Figure size 720x432 with 1 Axes>"
      ]
     },
     "metadata": {
      "needs_background": "light"
     },
     "output_type": "display_data"
    }
   ],
   "source": [
    "data_2012.pivot_table(index='year_of_release', columns='platform', values='total_sales', aggfunc='sum').plot(\n",
    "    kind='bar', figsize=(10, 6))\n",
    "plt.ylabel('Выручка от продаж')\n",
    "plt.xlabel('Год выпуска')\n",
    "plt.title('Количество продаж по платформам')\n",
    "plt.show()"
   ]
  },
  {
   "cell_type": "markdown",
   "id": "d335a9c5",
   "metadata": {},
   "source": [
    "В 2012-2013 г.г. игровая платформа PS3 набирает пик своей популярности. У нее только один явный конкурент - это Х360. К 2016 наступает закат для PS3, при этом вышедшая PS4 стремительно занимает рынок, и в 2014-2016 собирает свою максимальну. прибыль от продаж. На смену Х360 выходит XOne и так же, как и предшественник, составляет конкуренцию Sony. Тройку лидеров замыкает платформа 3DS, уверенно держащаяся на плаву в течение всех исследуемых 5 лет, хотя к концу периода продажи все же спадают."
   ]
  },
  {
   "cell_type": "markdown",
   "id": "d87bf5f2",
   "metadata": {},
   "source": [
    "4. Построим график «ящик с усами» по глобальным продажам игр в разбивке по платформам. "
   ]
  },
  {
   "cell_type": "code",
   "execution_count": 28,
   "id": "2b9946cc",
   "metadata": {},
   "outputs": [
    {
     "data": {
      "text/html": [
       "<div>\n",
       "<style scoped>\n",
       "    .dataframe tbody tr th:only-of-type {\n",
       "        vertical-align: middle;\n",
       "    }\n",
       "\n",
       "    .dataframe tbody tr th {\n",
       "        vertical-align: top;\n",
       "    }\n",
       "\n",
       "    .dataframe thead th {\n",
       "        text-align: right;\n",
       "    }\n",
       "</style>\n",
       "<table border=\"1\" class=\"dataframe\">\n",
       "  <thead>\n",
       "    <tr style=\"text-align: right;\">\n",
       "      <th>platform</th>\n",
       "      <th>3DS</th>\n",
       "      <th>DS</th>\n",
       "      <th>PC</th>\n",
       "      <th>PS3</th>\n",
       "      <th>PS4</th>\n",
       "      <th>PSP</th>\n",
       "      <th>PSV</th>\n",
       "      <th>Wii</th>\n",
       "      <th>WiiU</th>\n",
       "      <th>X360</th>\n",
       "      <th>XOne</th>\n",
       "    </tr>\n",
       "    <tr>\n",
       "      <th>year_of_release</th>\n",
       "      <th></th>\n",
       "      <th></th>\n",
       "      <th></th>\n",
       "      <th></th>\n",
       "      <th></th>\n",
       "      <th></th>\n",
       "      <th></th>\n",
       "      <th></th>\n",
       "      <th></th>\n",
       "      <th></th>\n",
       "      <th></th>\n",
       "    </tr>\n",
       "  </thead>\n",
       "  <tbody>\n",
       "    <tr>\n",
       "      <th>2012</th>\n",
       "      <td>51.36</td>\n",
       "      <td>11.01</td>\n",
       "      <td>23.22</td>\n",
       "      <td>107.36</td>\n",
       "      <td>NaN</td>\n",
       "      <td>7.69</td>\n",
       "      <td>16.19</td>\n",
       "      <td>21.71</td>\n",
       "      <td>17.56</td>\n",
       "      <td>99.74</td>\n",
       "      <td>NaN</td>\n",
       "    </tr>\n",
       "    <tr>\n",
       "      <th>2013</th>\n",
       "      <td>56.57</td>\n",
       "      <td>1.54</td>\n",
       "      <td>12.38</td>\n",
       "      <td>113.25</td>\n",
       "      <td>25.99</td>\n",
       "      <td>3.14</td>\n",
       "      <td>10.59</td>\n",
       "      <td>8.59</td>\n",
       "      <td>21.65</td>\n",
       "      <td>88.58</td>\n",
       "      <td>18.96</td>\n",
       "    </tr>\n",
       "    <tr>\n",
       "      <th>2014</th>\n",
       "      <td>43.76</td>\n",
       "      <td>NaN</td>\n",
       "      <td>13.28</td>\n",
       "      <td>47.76</td>\n",
       "      <td>100.00</td>\n",
       "      <td>0.24</td>\n",
       "      <td>11.90</td>\n",
       "      <td>3.75</td>\n",
       "      <td>22.03</td>\n",
       "      <td>34.74</td>\n",
       "      <td>54.07</td>\n",
       "    </tr>\n",
       "    <tr>\n",
       "      <th>2015</th>\n",
       "      <td>27.78</td>\n",
       "      <td>NaN</td>\n",
       "      <td>8.52</td>\n",
       "      <td>16.82</td>\n",
       "      <td>118.90</td>\n",
       "      <td>0.12</td>\n",
       "      <td>6.25</td>\n",
       "      <td>1.14</td>\n",
       "      <td>16.35</td>\n",
       "      <td>11.96</td>\n",
       "      <td>60.14</td>\n",
       "    </tr>\n",
       "    <tr>\n",
       "      <th>2016</th>\n",
       "      <td>15.14</td>\n",
       "      <td>NaN</td>\n",
       "      <td>5.25</td>\n",
       "      <td>3.60</td>\n",
       "      <td>69.25</td>\n",
       "      <td>NaN</td>\n",
       "      <td>4.25</td>\n",
       "      <td>0.18</td>\n",
       "      <td>4.60</td>\n",
       "      <td>1.52</td>\n",
       "      <td>26.15</td>\n",
       "    </tr>\n",
       "  </tbody>\n",
       "</table>\n",
       "</div>"
      ],
      "text/plain": [
       "platform           3DS     DS     PC     PS3     PS4   PSP    PSV    Wii  \\\n",
       "year_of_release                                                            \n",
       "2012             51.36  11.01  23.22  107.36     NaN  7.69  16.19  21.71   \n",
       "2013             56.57   1.54  12.38  113.25   25.99  3.14  10.59   8.59   \n",
       "2014             43.76    NaN  13.28   47.76  100.00  0.24  11.90   3.75   \n",
       "2015             27.78    NaN   8.52   16.82  118.90  0.12   6.25   1.14   \n",
       "2016             15.14    NaN   5.25    3.60   69.25   NaN   4.25   0.18   \n",
       "\n",
       "platform          WiiU   X360   XOne  \n",
       "year_of_release                       \n",
       "2012             17.56  99.74    NaN  \n",
       "2013             21.65  88.58  18.96  \n",
       "2014             22.03  34.74  54.07  \n",
       "2015             16.35  11.96  60.14  \n",
       "2016              4.60   1.52  26.15  "
      ]
     },
     "execution_count": 28,
     "metadata": {},
     "output_type": "execute_result"
    }
   ],
   "source": [
    "data_2012.pivot_table(index='year_of_release', columns='platform', values='total_sales', aggfunc='sum')"
   ]
  },
  {
   "cell_type": "code",
   "execution_count": 29,
   "id": "8ba426ee",
   "metadata": {},
   "outputs": [
    {
     "data": {
      "image/png": "[encoded data removed]",
      "text/plain": [
       "<Figure size 1080x648 with 1 Axes>"
      ]
     },
     "metadata": {
      "needs_background": "light"
     },
     "output_type": "display_data"
    }
   ],
   "source": [
    "fig = plt.subplots(figsize=(15,9))\n",
    "plt.title(\"Глобальные продажи игр по наиболее перспективным платформам\")\n",
    "plot = sns.boxplot(x=\"platform\", y=\"total_sales\", data=data_2012, palette='rainbow')\n",
    "plt.ylim(0, 3)\n",
    "plt.xlabel('название платформы')\n",
    "plt.ylabel('суммарные продажи ')\n",
    "plt.show()"
   ]
  },
  {
   "cell_type": "markdown",
   "id": "052447f6",
   "metadata": {},
   "source": [
    "На каждой из платформ существует большое количество игр, суммарные продажи по которым выбиваются из квартильных значений. В целом, разница в суммарных продажах игр в рамках каждой из платформ очень велико для 3DS, PS4, чуть меньше - для XOne и PS4.  \n",
    "\n",
    "Исключим из визуализации выбивающиеся значения и построим график.  \n",
    "Сравним показатели по наиболее часто встречающимся значениям: для этого нам интересны среднее, медианное и квартильные значения. "
   ]
  },
  {
   "cell_type": "code",
   "execution_count": 30,
   "id": "becbff5d",
   "metadata": {},
   "outputs": [
    {
     "data": {
      "image/png": "[encoded data removed]",
      "text/plain": [
       "<Figure size 1080x648 with 1 Axes>"
      ]
     },
     "metadata": {
      "needs_background": "light"
     },
     "output_type": "display_data"
    }
   ],
   "source": [
    "fig = plt.subplots(figsize=(15,9))\n",
    "plt.title(\"Глобальные продажи игр по наиболее перспективным платформам\")\n",
    "plot = sns.boxplot(x=\"platform\", y=\"total_sales\", data=data_2012, palette='rainbow', showfliers=False)\n",
    "plt.ylim(0, 3)\n",
    "plt.xlabel('название платформы')\n",
    "plt.ylabel('суммарные продажи ')\n",
    "plt.show()"
   ]
  },
  {
   "cell_type": "code",
   "execution_count": 31,
   "id": "8b8fc41a",
   "metadata": {},
   "outputs": [
    {
     "data": {
      "text/html": [
       "<div>\n",
       "<style scoped>\n",
       "    .dataframe tbody tr th:only-of-type {\n",
       "        vertical-align: middle;\n",
       "    }\n",
       "\n",
       "    .dataframe tbody tr th {\n",
       "        vertical-align: top;\n",
       "    }\n",
       "\n",
       "    .dataframe thead th {\n",
       "        text-align: right;\n",
       "    }\n",
       "</style>\n",
       "<table border=\"1\" class=\"dataframe\">\n",
       "  <thead>\n",
       "    <tr style=\"text-align: right;\">\n",
       "      <th>platform</th>\n",
       "      <th>3DS</th>\n",
       "      <th>DS</th>\n",
       "      <th>PC</th>\n",
       "      <th>PS3</th>\n",
       "      <th>PS4</th>\n",
       "      <th>PSP</th>\n",
       "      <th>PSV</th>\n",
       "      <th>Wii</th>\n",
       "      <th>WiiU</th>\n",
       "      <th>X360</th>\n",
       "      <th>XOne</th>\n",
       "    </tr>\n",
       "  </thead>\n",
       "  <tbody>\n",
       "    <tr>\n",
       "      <th>count</th>\n",
       "      <td>5.000000</td>\n",
       "      <td>2.000000</td>\n",
       "      <td>5.000000</td>\n",
       "      <td>5.000000</td>\n",
       "      <td>4.000000</td>\n",
       "      <td>4.000000</td>\n",
       "      <td>5.000</td>\n",
       "      <td>5.000000</td>\n",
       "      <td>5.000000</td>\n",
       "      <td>5.000000</td>\n",
       "      <td>4.000000</td>\n",
       "    </tr>\n",
       "    <tr>\n",
       "      <th>mean</th>\n",
       "      <td>38.922000</td>\n",
       "      <td>6.275000</td>\n",
       "      <td>12.530000</td>\n",
       "      <td>57.758000</td>\n",
       "      <td>78.535000</td>\n",
       "      <td>2.797500</td>\n",
       "      <td>9.836</td>\n",
       "      <td>7.074000</td>\n",
       "      <td>16.438000</td>\n",
       "      <td>47.308000</td>\n",
       "      <td>39.830000</td>\n",
       "    </tr>\n",
       "    <tr>\n",
       "      <th>std</th>\n",
       "      <td>17.170394</td>\n",
       "      <td>6.696301</td>\n",
       "      <td>6.781217</td>\n",
       "      <td>50.617905</td>\n",
       "      <td>40.567917</td>\n",
       "      <td>3.547942</td>\n",
       "      <td>4.724</td>\n",
       "      <td>8.807657</td>\n",
       "      <td>7.068244</td>\n",
       "      <td>44.599522</td>\n",
       "      <td>20.313977</td>\n",
       "    </tr>\n",
       "    <tr>\n",
       "      <th>min</th>\n",
       "      <td>15.140000</td>\n",
       "      <td>1.540000</td>\n",
       "      <td>5.250000</td>\n",
       "      <td>3.600000</td>\n",
       "      <td>25.990000</td>\n",
       "      <td>0.120000</td>\n",
       "      <td>4.250</td>\n",
       "      <td>0.180000</td>\n",
       "      <td>4.600000</td>\n",
       "      <td>1.520000</td>\n",
       "      <td>18.960000</td>\n",
       "    </tr>\n",
       "    <tr>\n",
       "      <th>25%</th>\n",
       "      <td>27.780000</td>\n",
       "      <td>3.907500</td>\n",
       "      <td>8.520000</td>\n",
       "      <td>16.820000</td>\n",
       "      <td>58.435000</td>\n",
       "      <td>0.210000</td>\n",
       "      <td>6.250</td>\n",
       "      <td>1.140000</td>\n",
       "      <td>16.350000</td>\n",
       "      <td>11.960000</td>\n",
       "      <td>24.352500</td>\n",
       "    </tr>\n",
       "    <tr>\n",
       "      <th>50%</th>\n",
       "      <td>43.760000</td>\n",
       "      <td>6.275000</td>\n",
       "      <td>12.380000</td>\n",
       "      <td>47.760000</td>\n",
       "      <td>84.625000</td>\n",
       "      <td>1.690000</td>\n",
       "      <td>10.590</td>\n",
       "      <td>3.750000</td>\n",
       "      <td>17.560000</td>\n",
       "      <td>34.740000</td>\n",
       "      <td>40.110000</td>\n",
       "    </tr>\n",
       "    <tr>\n",
       "      <th>75%</th>\n",
       "      <td>51.360000</td>\n",
       "      <td>8.642500</td>\n",
       "      <td>13.280000</td>\n",
       "      <td>107.360000</td>\n",
       "      <td>104.725000</td>\n",
       "      <td>4.277500</td>\n",
       "      <td>11.900</td>\n",
       "      <td>8.590000</td>\n",
       "      <td>21.650000</td>\n",
       "      <td>88.580000</td>\n",
       "      <td>55.587500</td>\n",
       "    </tr>\n",
       "    <tr>\n",
       "      <th>max</th>\n",
       "      <td>56.570000</td>\n",
       "      <td>11.010000</td>\n",
       "      <td>23.220000</td>\n",
       "      <td>113.250000</td>\n",
       "      <td>118.900000</td>\n",
       "      <td>7.690000</td>\n",
       "      <td>16.190</td>\n",
       "      <td>21.710000</td>\n",
       "      <td>22.030000</td>\n",
       "      <td>99.740000</td>\n",
       "      <td>60.140000</td>\n",
       "    </tr>\n",
       "  </tbody>\n",
       "</table>\n",
       "</div>"
      ],
      "text/plain": [
       "platform        3DS         DS         PC         PS3         PS4       PSP  \\\n",
       "count      5.000000   2.000000   5.000000    5.000000    4.000000  4.000000   \n",
       "mean      38.922000   6.275000  12.530000   57.758000   78.535000  2.797500   \n",
       "std       17.170394   6.696301   6.781217   50.617905   40.567917  3.547942   \n",
       "min       15.140000   1.540000   5.250000    3.600000   25.990000  0.120000   \n",
       "25%       27.780000   3.907500   8.520000   16.820000   58.435000  0.210000   \n",
       "50%       43.760000   6.275000  12.380000   47.760000   84.625000  1.690000   \n",
       "75%       51.360000   8.642500  13.280000  107.360000  104.725000  4.277500   \n",
       "max       56.570000  11.010000  23.220000  113.250000  118.900000  7.690000   \n",
       "\n",
       "platform     PSV        Wii       WiiU       X360       XOne  \n",
       "count      5.000   5.000000   5.000000   5.000000   4.000000  \n",
       "mean       9.836   7.074000  16.438000  47.308000  39.830000  \n",
       "std        4.724   8.807657   7.068244  44.599522  20.313977  \n",
       "min        4.250   0.180000   4.600000   1.520000  18.960000  \n",
       "25%        6.250   1.140000  16.350000  11.960000  24.352500  \n",
       "50%       10.590   3.750000  17.560000  34.740000  40.110000  \n",
       "75%       11.900   8.590000  21.650000  88.580000  55.587500  \n",
       "max       16.190  21.710000  22.030000  99.740000  60.140000  "
      ]
     },
     "execution_count": 31,
     "metadata": {},
     "output_type": "execute_result"
    }
   ],
   "source": [
    "data_2012.pivot_table(index='year_of_release', columns='platform', values='total_sales', aggfunc='sum').describe()"
   ]
  },
  {
   "cell_type": "markdown",
   "id": "1d0c3544",
   "metadata": {},
   "source": [
    "На всех платформах наблюдается разница между средним значением и медианным: для PS4, X360 и 3DS наиболее сильно, затем WiiU и PS3 чуть меньше Также видим различия в медианных значениях: игры на PS4, X360 и XBoxOne имеют схожие графики (квартильные, средние и медианные значения).  \n",
    "У явного лидера - PS4 - распределение смещено в сторону максимальных значений и это самая популярная и успешная платформа: игры, созданные для нее, продавались большими тиражами.  \n"
   ]
  },
  {
   "cell_type": "markdown",
   "id": "a34049ad",
   "metadata": {},
   "source": [
    "5. Влияние отзывов на продажи"
   ]
  },
  {
   "cell_type": "markdown",
   "id": "8a0a5716",
   "metadata": {},
   "source": [
    "Предлагаю взять для анализа 2 лидера продаж: X360 и PS4.  \n",
    "Построим диагармму рассеяния для отзывов пользователей и для отзывов критиков.  \n",
    "Посчитаем корреляцию для отзывов пользователей и для отзывов критиков для платформы PS4 и Х360."
   ]
  },
  {
   "cell_type": "code",
   "execution_count": 36,
   "id": "40ec43f0",
   "metadata": {
    "scrolled": true
   },
   "outputs": [
    {
     "data": {
      "text/html": [
       "<div>\n",
       "<style scoped>\n",
       "    .dataframe tbody tr th:only-of-type {\n",
       "        vertical-align: middle;\n",
       "    }\n",
       "\n",
       "    .dataframe tbody tr th {\n",
       "        vertical-align: top;\n",
       "    }\n",
       "\n",
       "    .dataframe thead th {\n",
       "        text-align: right;\n",
       "    }\n",
       "</style>\n",
       "<table border=\"1\" class=\"dataframe\">\n",
       "  <thead>\n",
       "    <tr style=\"text-align: right;\">\n",
       "      <th></th>\n",
       "      <th>name</th>\n",
       "      <th>platform</th>\n",
       "      <th>year_of_release</th>\n",
       "      <th>genre</th>\n",
       "      <th>NA_sales</th>\n",
       "      <th>EU_sales</th>\n",
       "      <th>JP_sales</th>\n",
       "      <th>other_sales</th>\n",
       "      <th>critic_score</th>\n",
       "      <th>user_score</th>\n",
       "      <th>rating</th>\n",
       "      <th>total_sales</th>\n",
       "    </tr>\n",
       "  </thead>\n",
       "  <tbody>\n",
       "    <tr>\n",
       "      <th>23</th>\n",
       "      <td>Grand Theft Auto V</td>\n",
       "      <td>X360</td>\n",
       "      <td>2013</td>\n",
       "      <td>Action</td>\n",
       "      <td>9.66</td>\n",
       "      <td>5.14</td>\n",
       "      <td>0.06</td>\n",
       "      <td>1.41</td>\n",
       "      <td>97.0</td>\n",
       "      <td>8.1</td>\n",
       "      <td>M</td>\n",
       "      <td>16.27</td>\n",
       "    </tr>\n",
       "    <tr>\n",
       "      <th>31</th>\n",
       "      <td>Call of Duty: Black Ops 3</td>\n",
       "      <td>PS4</td>\n",
       "      <td>2015</td>\n",
       "      <td>Shooter</td>\n",
       "      <td>6.03</td>\n",
       "      <td>5.86</td>\n",
       "      <td>0.36</td>\n",
       "      <td>2.38</td>\n",
       "      <td>0.0</td>\n",
       "      <td>0.0</td>\n",
       "      <td>unknown</td>\n",
       "      <td>14.63</td>\n",
       "    </tr>\n",
       "    <tr>\n",
       "      <th>35</th>\n",
       "      <td>Call of Duty: Black Ops II</td>\n",
       "      <td>X360</td>\n",
       "      <td>2012</td>\n",
       "      <td>Shooter</td>\n",
       "      <td>8.25</td>\n",
       "      <td>4.24</td>\n",
       "      <td>0.07</td>\n",
       "      <td>1.12</td>\n",
       "      <td>83.0</td>\n",
       "      <td>4.8</td>\n",
       "      <td>M</td>\n",
       "      <td>13.68</td>\n",
       "    </tr>\n",
       "    <tr>\n",
       "      <th>42</th>\n",
       "      <td>Grand Theft Auto V</td>\n",
       "      <td>PS4</td>\n",
       "      <td>2014</td>\n",
       "      <td>Action</td>\n",
       "      <td>3.96</td>\n",
       "      <td>6.31</td>\n",
       "      <td>0.38</td>\n",
       "      <td>1.97</td>\n",
       "      <td>97.0</td>\n",
       "      <td>8.3</td>\n",
       "      <td>M</td>\n",
       "      <td>12.62</td>\n",
       "    </tr>\n",
       "    <tr>\n",
       "      <th>60</th>\n",
       "      <td>Call of Duty: Ghosts</td>\n",
       "      <td>X360</td>\n",
       "      <td>2013</td>\n",
       "      <td>Shooter</td>\n",
       "      <td>6.73</td>\n",
       "      <td>2.56</td>\n",
       "      <td>0.04</td>\n",
       "      <td>0.91</td>\n",
       "      <td>73.0</td>\n",
       "      <td>2.6</td>\n",
       "      <td>M</td>\n",
       "      <td>10.24</td>\n",
       "    </tr>\n",
       "  </tbody>\n",
       "</table>\n",
       "</div>"
      ],
      "text/plain": [
       "                          name platform  year_of_release    genre  NA_sales  \\\n",
       "23          Grand Theft Auto V     X360             2013   Action      9.66   \n",
       "31   Call of Duty: Black Ops 3      PS4             2015  Shooter      6.03   \n",
       "35  Call of Duty: Black Ops II     X360             2012  Shooter      8.25   \n",
       "42          Grand Theft Auto V      PS4             2014   Action      3.96   \n",
       "60        Call of Duty: Ghosts     X360             2013  Shooter      6.73   \n",
       "\n",
       "    EU_sales  JP_sales  other_sales  critic_score  user_score   rating  \\\n",
       "23      5.14      0.06         1.41          97.0         8.1        M   \n",
       "31      5.86      0.36         2.38           0.0         0.0  unknown   \n",
       "35      4.24      0.07         1.12          83.0         4.8        M   \n",
       "42      6.31      0.38         1.97          97.0         8.3        M   \n",
       "60      2.56      0.04         0.91          73.0         2.6        M   \n",
       "\n",
       "    total_sales  \n",
       "23        16.27  \n",
       "31        14.63  \n",
       "35        13.68  \n",
       "42        12.62  \n",
       "60        10.24  "
      ]
     },
     "metadata": {},
     "output_type": "display_data"
    }
   ],
   "source": [
    "PS4_X360 = data_2012[data_2012['platform'].isin(['PS4', 'X360'])]\n",
    "display(PS4_X360.head(5))"
   ]
  },
  {
   "cell_type": "code",
   "execution_count": 39,
   "id": "fa0f4b5b",
   "metadata": {},
   "outputs": [],
   "source": [
    "PS4_X360 = PS4_X360[PS4_X360['user_score'] > 0]\n",
    "PS4_X360 = PS4_X360[PS4_X360['critic_score'] > 0]"
   ]
  },
  {
   "cell_type": "code",
   "execution_count": 66,
   "id": "4c862fdd",
   "metadata": {},
   "outputs": [
    {
     "data": {
      "image/png": "[encoded data removed]",
      "text/plain": [
       "<Figure size 432x288 with 1 Axes>"
      ]
     },
     "metadata": {
      "needs_background": "light"
     },
     "output_type": "display_data"
    },
    {
     "data": {
      "image/png": "[encoded data removed]",
      "text/plain": [
       "<Figure size 432x288 with 1 Axes>"
      ]
     },
     "metadata": {
      "needs_background": "light"
     },
     "output_type": "display_data"
    }
   ],
   "source": [
    "PS4_X360.plot(x='user_score', y='total_sales', kind='scatter', color = 'DarkBlue',\n",
    "              title='Диаграмма рассеяния для отзывов пользователей')\n",
    "plt.show()\n",
    "PS4_X360.plot(x='critic_score', y='total_sales', kind='scatter', color = 'Green', \n",
    "              title='Диаграмма рассеяния для отзывов критиков')\n",
    "plt.show()"
   ]
  },
  {
   "cell_type": "code",
   "execution_count": 44,
   "id": "1aa20fb1",
   "metadata": {},
   "outputs": [
    {
     "name": "stdout",
     "output_type": "stream",
     "text": [
      "Значения корреляции для платформы PS4\n",
      "Корреляция между продажами и отзывами пользователей 0.11311562450852881\n",
      "Корреляция между продажами и отзывами критиков 0.2275496062775265\n"
     ]
    }
   ],
   "source": [
    "#Посчитаем корреляцию для отзывов пользователей и для отзывов критиков для платформы PS4\n",
    "PS4 = data_2012[data_2012['platform'] == 'PS4']\n",
    "print('Значения корреляции для платформы PS4')\n",
    "print('Корреляция между продажами и отзывами пользователей', PS4['total_sales'].corr(PS4['user_score']))\n",
    "print('Корреляция между продажами и отзывами критиков', PS4['total_sales'].corr(PS4['critic_score']))"
   ]
  },
  {
   "cell_type": "code",
   "execution_count": 45,
   "id": "4592c42d",
   "metadata": {},
   "outputs": [
    {
     "name": "stdout",
     "output_type": "stream",
     "text": [
      "Значения корреляции для платформы X360\n",
      "Корреляция между продажами и отзывами пользователей 0.09974264797389464\n",
      "Корреляция между продажами и отзывами критиков 0.26202840220219653\n"
     ]
    }
   ],
   "source": [
    "#Посчитаем корреляцию для отзывов пользователей и для отзывов критиков для платформы X360\n",
    "X360 = data_2012[data_2012['platform'] == 'X360']\n",
    "print('Значения корреляции для платформы X360')\n",
    "print('Корреляция между продажами и отзывами пользователей', X360['total_sales'].corr(X360['user_score']))\n",
    "print('Корреляция между продажами и отзывами критиков', X360['total_sales'].corr(X360['critic_score']))"
   ]
  },
  {
   "cell_type": "markdown",
   "id": "93ce4daf",
   "metadata": {},
   "source": [
    "Согласно полученным данным по рассчету корреляции для отдельных платформ видно, что зависимость продаж от отзывов критиков больше, чем зависимость продаж от отзывов пользователей. Из графиков видно, что продажи увеличиваются с увеличением рейтинга отзыва пользователей и критиков.   \n",
    "В целом, взаимосвязь слабая, или, иными словами, продажи не зависят от оценок критиков и пользователей, но к критикам прислушиваются больше.  \n",
    "Все описанное для конкретной платформы, относится и ко всем остальным платформам.  "
   ]
  },
  {
   "cell_type": "markdown",
   "id": "fbadf8e7",
   "metadata": {},
   "source": [
    "6. Распределение игр по жанрам"
   ]
  },
  {
   "cell_type": "code",
   "execution_count": 67,
   "id": "b9e697b3",
   "metadata": {},
   "outputs": [
    {
     "data": {
      "text/html": [
       "<div>\n",
       "<style scoped>\n",
       "    .dataframe tbody tr th:only-of-type {\n",
       "        vertical-align: middle;\n",
       "    }\n",
       "\n",
       "    .dataframe tbody tr th {\n",
       "        vertical-align: top;\n",
       "    }\n",
       "\n",
       "    .dataframe thead th {\n",
       "        text-align: right;\n",
       "    }\n",
       "</style>\n",
       "<table border=\"1\" class=\"dataframe\">\n",
       "  <thead>\n",
       "    <tr style=\"text-align: right;\">\n",
       "      <th></th>\n",
       "      <th>total_sales</th>\n",
       "    </tr>\n",
       "    <tr>\n",
       "      <th>genre</th>\n",
       "      <th></th>\n",
       "    </tr>\n",
       "  </thead>\n",
       "  <tbody>\n",
       "    <tr>\n",
       "      <th>Action</th>\n",
       "      <td>441.12</td>\n",
       "    </tr>\n",
       "    <tr>\n",
       "      <th>Shooter</th>\n",
       "      <td>304.73</td>\n",
       "    </tr>\n",
       "    <tr>\n",
       "      <th>Role-Playing</th>\n",
       "      <td>192.80</td>\n",
       "    </tr>\n",
       "    <tr>\n",
       "      <th>Sports</th>\n",
       "      <td>181.07</td>\n",
       "    </tr>\n",
       "    <tr>\n",
       "      <th>Misc</th>\n",
       "      <td>85.04</td>\n",
       "    </tr>\n",
       "    <tr>\n",
       "      <th>Platform</th>\n",
       "      <td>61.00</td>\n",
       "    </tr>\n",
       "    <tr>\n",
       "      <th>Racing</th>\n",
       "      <td>53.50</td>\n",
       "    </tr>\n",
       "    <tr>\n",
       "      <th>Fighting</th>\n",
       "      <td>44.49</td>\n",
       "    </tr>\n",
       "    <tr>\n",
       "      <th>Simulation</th>\n",
       "      <td>35.12</td>\n",
       "    </tr>\n",
       "    <tr>\n",
       "      <th>Adventure</th>\n",
       "      <td>29.43</td>\n",
       "    </tr>\n",
       "    <tr>\n",
       "      <th>Strategy</th>\n",
       "      <td>13.34</td>\n",
       "    </tr>\n",
       "    <tr>\n",
       "      <th>Puzzle</th>\n",
       "      <td>4.89</td>\n",
       "    </tr>\n",
       "  </tbody>\n",
       "</table>\n",
       "</div>"
      ],
      "text/plain": [
       "              total_sales\n",
       "genre                    \n",
       "Action             441.12\n",
       "Shooter            304.73\n",
       "Role-Playing       192.80\n",
       "Sports             181.07\n",
       "Misc                85.04\n",
       "Platform            61.00\n",
       "Racing              53.50\n",
       "Fighting            44.49\n",
       "Simulation          35.12\n",
       "Adventure           29.43\n",
       "Strategy            13.34\n",
       "Puzzle               4.89"
      ]
     },
     "metadata": {},
     "output_type": "display_data"
    },
    {
     "data": {
      "image/png": "[encoded data removed]",
      "text/plain": [
       "<Figure size 360x360 with 1 Axes>"
      ]
     },
     "metadata": {
      "needs_background": "light"
     },
     "output_type": "display_data"
    }
   ],
   "source": [
    "#Отобразим жанры по убыванию в зависимости от количества продаж\n",
    "genre_2012 = data_2012.pivot_table(index = 'genre', values = 'total_sales', aggfunc = 'sum').sort_values(by = 'total_sales', ascending=False)\n",
    "display(genre_2012)\n",
    "\n",
    "# Отобразим данные в виде графика\n",
    "genre_2012.plot(y='total_sales',kind='bar', legend = False, figsize = (5,5))\n",
    "plt.xlabel('Жанр')\n",
    "plt.ylabel('Суммарные продажи')\n",
    "plt.title('Распределение игр по жанрам')\n",
    "plt.show()\n"
   ]
  },
  {
   "cell_type": "code",
   "execution_count": 47,
   "id": "92fc29a9",
   "metadata": {},
   "outputs": [
    {
     "data": {
      "text/html": [
       "<div>\n",
       "<style scoped>\n",
       "    .dataframe tbody tr th:only-of-type {\n",
       "        vertical-align: middle;\n",
       "    }\n",
       "\n",
       "    .dataframe tbody tr th {\n",
       "        vertical-align: top;\n",
       "    }\n",
       "\n",
       "    .dataframe thead th {\n",
       "        text-align: right;\n",
       "    }\n",
       "</style>\n",
       "<table border=\"1\" class=\"dataframe\">\n",
       "  <thead>\n",
       "    <tr style=\"text-align: right;\">\n",
       "      <th></th>\n",
       "      <th>count</th>\n",
       "      <th>mean</th>\n",
       "      <th>std</th>\n",
       "      <th>min</th>\n",
       "      <th>25%</th>\n",
       "      <th>50%</th>\n",
       "      <th>75%</th>\n",
       "      <th>max</th>\n",
       "    </tr>\n",
       "    <tr>\n",
       "      <th>genre</th>\n",
       "      <th></th>\n",
       "      <th></th>\n",
       "      <th></th>\n",
       "      <th></th>\n",
       "      <th></th>\n",
       "      <th></th>\n",
       "      <th></th>\n",
       "      <th></th>\n",
       "    </tr>\n",
       "  </thead>\n",
       "  <tbody>\n",
       "    <tr>\n",
       "      <th>Shooter</th>\n",
       "      <td>235.0</td>\n",
       "      <td>1.296723</td>\n",
       "      <td>2.251662</td>\n",
       "      <td>0.01</td>\n",
       "      <td>0.135</td>\n",
       "      <td>0.440</td>\n",
       "      <td>1.4800</td>\n",
       "      <td>14.63</td>\n",
       "    </tr>\n",
       "    <tr>\n",
       "      <th>Platform</th>\n",
       "      <td>85.0</td>\n",
       "      <td>0.717647</td>\n",
       "      <td>1.364413</td>\n",
       "      <td>0.01</td>\n",
       "      <td>0.090</td>\n",
       "      <td>0.210</td>\n",
       "      <td>0.6600</td>\n",
       "      <td>9.90</td>\n",
       "    </tr>\n",
       "    <tr>\n",
       "      <th>Sports</th>\n",
       "      <td>268.0</td>\n",
       "      <td>0.675634</td>\n",
       "      <td>1.136378</td>\n",
       "      <td>0.01</td>\n",
       "      <td>0.080</td>\n",
       "      <td>0.240</td>\n",
       "      <td>0.7425</td>\n",
       "      <td>8.58</td>\n",
       "    </tr>\n",
       "    <tr>\n",
       "      <th>Role-Playing</th>\n",
       "      <td>370.0</td>\n",
       "      <td>0.521081</td>\n",
       "      <td>1.315937</td>\n",
       "      <td>0.01</td>\n",
       "      <td>0.060</td>\n",
       "      <td>0.140</td>\n",
       "      <td>0.4075</td>\n",
       "      <td>14.60</td>\n",
       "    </tr>\n",
       "    <tr>\n",
       "      <th>Racing</th>\n",
       "      <td>115.0</td>\n",
       "      <td>0.465217</td>\n",
       "      <td>0.888664</td>\n",
       "      <td>0.01</td>\n",
       "      <td>0.050</td>\n",
       "      <td>0.140</td>\n",
       "      <td>0.4200</td>\n",
       "      <td>7.09</td>\n",
       "    </tr>\n",
       "    <tr>\n",
       "      <th>Misc</th>\n",
       "      <td>192.0</td>\n",
       "      <td>0.442917</td>\n",
       "      <td>1.081047</td>\n",
       "      <td>0.01</td>\n",
       "      <td>0.030</td>\n",
       "      <td>0.120</td>\n",
       "      <td>0.3375</td>\n",
       "      <td>9.18</td>\n",
       "    </tr>\n",
       "    <tr>\n",
       "      <th>Simulation</th>\n",
       "      <td>80.0</td>\n",
       "      <td>0.439000</td>\n",
       "      <td>1.244500</td>\n",
       "      <td>0.01</td>\n",
       "      <td>0.030</td>\n",
       "      <td>0.120</td>\n",
       "      <td>0.3275</td>\n",
       "      <td>9.17</td>\n",
       "    </tr>\n",
       "    <tr>\n",
       "      <th>Action</th>\n",
       "      <td>1031.0</td>\n",
       "      <td>0.427856</td>\n",
       "      <td>1.166504</td>\n",
       "      <td>0.01</td>\n",
       "      <td>0.030</td>\n",
       "      <td>0.120</td>\n",
       "      <td>0.3900</td>\n",
       "      <td>21.05</td>\n",
       "    </tr>\n",
       "    <tr>\n",
       "      <th>Fighting</th>\n",
       "      <td>109.0</td>\n",
       "      <td>0.408165</td>\n",
       "      <td>0.910385</td>\n",
       "      <td>0.01</td>\n",
       "      <td>0.060</td>\n",
       "      <td>0.130</td>\n",
       "      <td>0.3600</td>\n",
       "      <td>7.55</td>\n",
       "    </tr>\n",
       "    <tr>\n",
       "      <th>Strategy</th>\n",
       "      <td>71.0</td>\n",
       "      <td>0.187887</td>\n",
       "      <td>0.271976</td>\n",
       "      <td>0.01</td>\n",
       "      <td>0.030</td>\n",
       "      <td>0.080</td>\n",
       "      <td>0.2500</td>\n",
       "      <td>1.67</td>\n",
       "    </tr>\n",
       "    <tr>\n",
       "      <th>Puzzle</th>\n",
       "      <td>28.0</td>\n",
       "      <td>0.174643</td>\n",
       "      <td>0.305438</td>\n",
       "      <td>0.01</td>\n",
       "      <td>0.020</td>\n",
       "      <td>0.045</td>\n",
       "      <td>0.1025</td>\n",
       "      <td>1.19</td>\n",
       "    </tr>\n",
       "    <tr>\n",
       "      <th>Adventure</th>\n",
       "      <td>302.0</td>\n",
       "      <td>0.097450</td>\n",
       "      <td>0.208237</td>\n",
       "      <td>0.01</td>\n",
       "      <td>0.020</td>\n",
       "      <td>0.030</td>\n",
       "      <td>0.0775</td>\n",
       "      <td>1.66</td>\n",
       "    </tr>\n",
       "  </tbody>\n",
       "</table>\n",
       "</div>"
      ],
      "text/plain": [
       "               count      mean       std   min    25%    50%     75%    max\n",
       "genre                                                                      \n",
       "Shooter        235.0  1.296723  2.251662  0.01  0.135  0.440  1.4800  14.63\n",
       "Platform        85.0  0.717647  1.364413  0.01  0.090  0.210  0.6600   9.90\n",
       "Sports         268.0  0.675634  1.136378  0.01  0.080  0.240  0.7425   8.58\n",
       "Role-Playing   370.0  0.521081  1.315937  0.01  0.060  0.140  0.4075  14.60\n",
       "Racing         115.0  0.465217  0.888664  0.01  0.050  0.140  0.4200   7.09\n",
       "Misc           192.0  0.442917  1.081047  0.01  0.030  0.120  0.3375   9.18\n",
       "Simulation      80.0  0.439000  1.244500  0.01  0.030  0.120  0.3275   9.17\n",
       "Action        1031.0  0.427856  1.166504  0.01  0.030  0.120  0.3900  21.05\n",
       "Fighting       109.0  0.408165  0.910385  0.01  0.060  0.130  0.3600   7.55\n",
       "Strategy        71.0  0.187887  0.271976  0.01  0.030  0.080  0.2500   1.67\n",
       "Puzzle          28.0  0.174643  0.305438  0.01  0.020  0.045  0.1025   1.19\n",
       "Adventure      302.0  0.097450  0.208237  0.01  0.020  0.030  0.0775   1.66"
      ]
     },
     "execution_count": 47,
     "metadata": {},
     "output_type": "execute_result"
    }
   ],
   "source": [
    "data_2012.groupby('genre')['total_sales'].describe().sort_values(by='mean', ascending=False)"
   ]
  },
  {
   "cell_type": "markdown",
   "id": "624f0f57",
   "metadata": {},
   "source": [
    "Самым продаваемым жанром является \"Экшн\". Возможно,  прибыльность жанра связана с продажей нескольких выбивающихся, дорогих игр. На втором месте по доходу за анализируемый актуальный период находится жанр \"Шутер\", это направление игр, пользующееся высоким спросом. Очень много покупателей покупают отдельные игры с высокой ценой, а значит, это перспективное направление для продажи.\n",
    "\n",
    "Стратегии принесли самый низкий доход, но это не значит, что покупатели приобретают в этом жанре самые дешевые игры, в сравнении с другими жанрами.  Жанр \"Приключения\" имеет схожую со \"Стратегией\" характеристику по продаваемости: они слабо продаются и принесли минимальный доход, это не самые перспективные жанры.\n",
    "\n",
    "Самым неперспективным жанром игр для продаж является \"Паззлы\". Он на последнем месте по суммарным продажам."
   ]
  },
  {
   "cell_type": "markdown",
   "id": "2a8c1c11",
   "metadata": {},
   "source": [
    "При исследовании данных мы рассмотрели продажи игр по годам, определили среднюю продолжнительность жизни платформы, определили  потенциально прибыльные платформы, рассмотрели их корреляцию с рейтингом пользователей и экспертов. Рассмотрели продажи игр в зависимости от жанра.  \n",
    "Обобщив результаты, можно сказать, что, потенциально прибыльные игры должны быть на платформах - XOne, PS4, 3DS, с жанром Shooter, Action и Role-Playing."
   ]
  },
  {
   "cell_type": "markdown",
   "id": "b963c0cf",
   "metadata": {},
   "source": [
    "### Шаг 4. Портрет пользователя каждого региона"
   ]
  },
  {
   "cell_type": "markdown",
   "id": "e4b9c2ac",
   "metadata": {},
   "source": [
    "Определим для пользователя каждого региона (NA, EU, JP): самые популярные платформы (топ-5) и самые популярные жанры (топ-5)."
   ]
  },
  {
   "cell_type": "markdown",
   "id": "e2e46c04",
   "metadata": {},
   "source": [
    "Северная Америка (NA)"
   ]
  },
  {
   "cell_type": "code",
   "execution_count": 48,
   "id": "9f712060",
   "metadata": {},
   "outputs": [
    {
     "name": "stdout",
     "output_type": "stream",
     "text": [
      "Топ-5 платформ в Северной Америке\n"
     ]
    },
    {
     "data": {
      "text/html": [
       "<div>\n",
       "<style scoped>\n",
       "    .dataframe tbody tr th:only-of-type {\n",
       "        vertical-align: middle;\n",
       "    }\n",
       "\n",
       "    .dataframe tbody tr th {\n",
       "        vertical-align: top;\n",
       "    }\n",
       "\n",
       "    .dataframe thead th {\n",
       "        text-align: right;\n",
       "    }\n",
       "</style>\n",
       "<table border=\"1\" class=\"dataframe\">\n",
       "  <thead>\n",
       "    <tr style=\"text-align: right;\">\n",
       "      <th></th>\n",
       "      <th>NA_sales</th>\n",
       "    </tr>\n",
       "    <tr>\n",
       "      <th>platform</th>\n",
       "      <th></th>\n",
       "    </tr>\n",
       "  </thead>\n",
       "  <tbody>\n",
       "    <tr>\n",
       "      <th>X360</th>\n",
       "      <td>140.05</td>\n",
       "    </tr>\n",
       "    <tr>\n",
       "      <th>PS4</th>\n",
       "      <td>108.74</td>\n",
       "    </tr>\n",
       "    <tr>\n",
       "      <th>PS3</th>\n",
       "      <td>103.38</td>\n",
       "    </tr>\n",
       "    <tr>\n",
       "      <th>XOne</th>\n",
       "      <td>93.12</td>\n",
       "    </tr>\n",
       "    <tr>\n",
       "      <th>3DS</th>\n",
       "      <td>55.31</td>\n",
       "    </tr>\n",
       "  </tbody>\n",
       "</table>\n",
       "</div>"
      ],
      "text/plain": [
       "          NA_sales\n",
       "platform          \n",
       "X360        140.05\n",
       "PS4         108.74\n",
       "PS3         103.38\n",
       "XOne         93.12\n",
       "3DS          55.31"
      ]
     },
     "metadata": {},
     "output_type": "display_data"
    }
   ],
   "source": [
    "sales_NA = data_2012.pivot_table(index = 'platform', values = 'NA_sales', aggfunc = 'sum').sort_values(\n",
    "    by = 'NA_sales', ascending=False)\n",
    "print('Топ-5 платформ в Северной Америке')\n",
    "display(sales_NA.head(5))"
   ]
  },
  {
   "cell_type": "code",
   "execution_count": 49,
   "id": "ee72391b",
   "metadata": {},
   "outputs": [
    {
     "data": {
      "image/png": "[encoded data removed]",
      "text/plain": [
       "<Figure size 432x288 with 1 Axes>"
      ]
     },
     "metadata": {},
     "output_type": "display_data"
    }
   ],
   "source": [
    "top_5_na = sales_NA.head(5)\n",
    "top_5_na.plot(kind='pie', y='NA_sales', autopct='%1.1f%%', startangle=90, fontsize=16, legend=False) \n",
    "plt.ylabel('Суммарные продажи')\n",
    "plt.title('Топ-5 лидеров продаж в Северной Америке')\n",
    "plt.show()"
   ]
  },
  {
   "cell_type": "markdown",
   "id": "19e3c1ec",
   "metadata": {},
   "source": [
    "В Северной Америке наиболее продаваемыми играми за анализируемый период являются игры на платформе PS4 и X360. Х360 является американским продуктом, и неудивительно, что завоевала рынок. Широкий выбор предлагаемых игр на популярных платформах помогает делать высокие продажи."
   ]
  },
  {
   "cell_type": "markdown",
   "id": "d38c2f1c",
   "metadata": {},
   "source": [
    "Европа (EU)"
   ]
  },
  {
   "cell_type": "code",
   "execution_count": 50,
   "id": "5164dec0",
   "metadata": {},
   "outputs": [
    {
     "name": "stdout",
     "output_type": "stream",
     "text": [
      "Топ-5 платформ в Европе\n"
     ]
    },
    {
     "data": {
      "text/html": [
       "<div>\n",
       "<style scoped>\n",
       "    .dataframe tbody tr th:only-of-type {\n",
       "        vertical-align: middle;\n",
       "    }\n",
       "\n",
       "    .dataframe tbody tr th {\n",
       "        vertical-align: top;\n",
       "    }\n",
       "\n",
       "    .dataframe thead th {\n",
       "        text-align: right;\n",
       "    }\n",
       "</style>\n",
       "<table border=\"1\" class=\"dataframe\">\n",
       "  <thead>\n",
       "    <tr style=\"text-align: right;\">\n",
       "      <th></th>\n",
       "      <th>EU_sales</th>\n",
       "    </tr>\n",
       "    <tr>\n",
       "      <th>platform</th>\n",
       "      <th></th>\n",
       "    </tr>\n",
       "  </thead>\n",
       "  <tbody>\n",
       "    <tr>\n",
       "      <th>PS4</th>\n",
       "      <td>141.09</td>\n",
       "    </tr>\n",
       "    <tr>\n",
       "      <th>PS3</th>\n",
       "      <td>106.86</td>\n",
       "    </tr>\n",
       "    <tr>\n",
       "      <th>X360</th>\n",
       "      <td>74.52</td>\n",
       "    </tr>\n",
       "    <tr>\n",
       "      <th>XOne</th>\n",
       "      <td>51.59</td>\n",
       "    </tr>\n",
       "    <tr>\n",
       "      <th>3DS</th>\n",
       "      <td>42.64</td>\n",
       "    </tr>\n",
       "  </tbody>\n",
       "</table>\n",
       "</div>"
      ],
      "text/plain": [
       "          EU_sales\n",
       "platform          \n",
       "PS4         141.09\n",
       "PS3         106.86\n",
       "X360         74.52\n",
       "XOne         51.59\n",
       "3DS          42.64"
      ]
     },
     "metadata": {},
     "output_type": "display_data"
    }
   ],
   "source": [
    "EU_sales = data_2012.pivot_table(index = 'platform', values = 'EU_sales', aggfunc = 'sum').sort_values(by = 'EU_sales', ascending=False)\n",
    "print('Топ-5 платформ в Европе')\n",
    "display(EU_sales.head(5))"
   ]
  },
  {
   "cell_type": "code",
   "execution_count": 51,
   "id": "51989568",
   "metadata": {},
   "outputs": [
    {
     "data": {
      "image/png": "[encoded data removed]",
      "text/plain": [
       "<Figure size 432x288 with 1 Axes>"
      ]
     },
     "metadata": {},
     "output_type": "display_data"
    }
   ],
   "source": [
    "top_5_eu = EU_sales.head(5)\n",
    "top_5_eu.plot(kind='pie', y='EU_sales', autopct='%1.1f%%', startangle=90, fontsize=16, legend=False) \n",
    "plt.ylabel('Суммарные продажи')\n",
    "plt.title('Топ-5 лидеров продаж в Европе')\n",
    "plt.show()"
   ]
  },
  {
   "cell_type": "markdown",
   "id": "1cb78480",
   "metadata": {},
   "source": [
    "В Европе лидерство занимают игровые платформы от Sony 3 и 4 поколения."
   ]
  },
  {
   "cell_type": "markdown",
   "id": "04c5345c",
   "metadata": {},
   "source": [
    "Япония (JP)"
   ]
  },
  {
   "cell_type": "code",
   "execution_count": 52,
   "id": "5cb62a39",
   "metadata": {},
   "outputs": [
    {
     "name": "stdout",
     "output_type": "stream",
     "text": [
      "Топ-5 платформ в Японии\n"
     ]
    },
    {
     "data": {
      "text/html": [
       "<div>\n",
       "<style scoped>\n",
       "    .dataframe tbody tr th:only-of-type {\n",
       "        vertical-align: middle;\n",
       "    }\n",
       "\n",
       "    .dataframe tbody tr th {\n",
       "        vertical-align: top;\n",
       "    }\n",
       "\n",
       "    .dataframe thead th {\n",
       "        text-align: right;\n",
       "    }\n",
       "</style>\n",
       "<table border=\"1\" class=\"dataframe\">\n",
       "  <thead>\n",
       "    <tr style=\"text-align: right;\">\n",
       "      <th></th>\n",
       "      <th>JP_sales</th>\n",
       "    </tr>\n",
       "    <tr>\n",
       "      <th>platform</th>\n",
       "      <th></th>\n",
       "    </tr>\n",
       "  </thead>\n",
       "  <tbody>\n",
       "    <tr>\n",
       "      <th>3DS</th>\n",
       "      <td>87.79</td>\n",
       "    </tr>\n",
       "    <tr>\n",
       "      <th>PS3</th>\n",
       "      <td>35.29</td>\n",
       "    </tr>\n",
       "    <tr>\n",
       "      <th>PSV</th>\n",
       "      <td>21.04</td>\n",
       "    </tr>\n",
       "    <tr>\n",
       "      <th>PS4</th>\n",
       "      <td>15.96</td>\n",
       "    </tr>\n",
       "    <tr>\n",
       "      <th>WiiU</th>\n",
       "      <td>13.01</td>\n",
       "    </tr>\n",
       "  </tbody>\n",
       "</table>\n",
       "</div>"
      ],
      "text/plain": [
       "          JP_sales\n",
       "platform          \n",
       "3DS          87.79\n",
       "PS3          35.29\n",
       "PSV          21.04\n",
       "PS4          15.96\n",
       "WiiU         13.01"
      ]
     },
     "metadata": {},
     "output_type": "display_data"
    }
   ],
   "source": [
    "JP_sales = data_2012.pivot_table(index = 'platform', values = 'JP_sales', aggfunc = 'sum').sort_values(by = 'JP_sales', ascending=False)\n",
    "print('Топ-5 платформ в Японии')\n",
    "display(JP_sales.head(5))"
   ]
  },
  {
   "cell_type": "code",
   "execution_count": 53,
   "id": "3a83a90b",
   "metadata": {},
   "outputs": [
    {
     "data": {
      "image/png": "[encoded data removed]",
      "text/plain": [
       "<Figure size 432x288 with 1 Axes>"
      ]
     },
     "metadata": {},
     "output_type": "display_data"
    }
   ],
   "source": [
    "top_5_jp = JP_sales.head(5)\n",
    "top_5_jp.plot(kind='pie', y='JP_sales', autopct='%1.1f%%', startangle=90, fontsize=16, legend=False) \n",
    "plt.ylabel('Суммарные продажи')\n",
    "plt.title('Топ-5 лидеров продаж в Японии')\n",
    "plt.show()"
   ]
  },
  {
   "cell_type": "markdown",
   "id": "a1ed3560",
   "metadata": {},
   "source": [
    "В Японии безусловным лидером продаж является их же платформа 3DS. Ближайшую конкурентную нишу занимает PS3."
   ]
  },
  {
   "cell_type": "markdown",
   "id": "763e6584",
   "metadata": {},
   "source": [
    "По аналогии с анализом игровых платформ, проанализируем популярные жанры в доле продаж на разных континентах."
   ]
  },
  {
   "cell_type": "markdown",
   "id": "15542afe",
   "metadata": {},
   "source": [
    "Северная Америка"
   ]
  },
  {
   "cell_type": "code",
   "execution_count": 54,
   "id": "029a436e",
   "metadata": {},
   "outputs": [
    {
     "name": "stdout",
     "output_type": "stream",
     "text": [
      "Топ-5 жанров в Северной Америке\n"
     ]
    },
    {
     "data": {
      "text/html": [
       "<div>\n",
       "<style scoped>\n",
       "    .dataframe tbody tr th:only-of-type {\n",
       "        vertical-align: middle;\n",
       "    }\n",
       "\n",
       "    .dataframe tbody tr th {\n",
       "        vertical-align: top;\n",
       "    }\n",
       "\n",
       "    .dataframe thead th {\n",
       "        text-align: right;\n",
       "    }\n",
       "</style>\n",
       "<table border=\"1\" class=\"dataframe\">\n",
       "  <thead>\n",
       "    <tr style=\"text-align: right;\">\n",
       "      <th></th>\n",
       "      <th>NA_sales</th>\n",
       "    </tr>\n",
       "    <tr>\n",
       "      <th>genre</th>\n",
       "      <th></th>\n",
       "    </tr>\n",
       "  </thead>\n",
       "  <tbody>\n",
       "    <tr>\n",
       "      <th>Action</th>\n",
       "      <td>177.84</td>\n",
       "    </tr>\n",
       "    <tr>\n",
       "      <th>Shooter</th>\n",
       "      <td>144.77</td>\n",
       "    </tr>\n",
       "    <tr>\n",
       "      <th>Sports</th>\n",
       "      <td>81.53</td>\n",
       "    </tr>\n",
       "    <tr>\n",
       "      <th>Role-Playing</th>\n",
       "      <td>64.00</td>\n",
       "    </tr>\n",
       "    <tr>\n",
       "      <th>Misc</th>\n",
       "      <td>38.19</td>\n",
       "    </tr>\n",
       "  </tbody>\n",
       "</table>\n",
       "</div>"
      ],
      "text/plain": [
       "              NA_sales\n",
       "genre                 \n",
       "Action          177.84\n",
       "Shooter         144.77\n",
       "Sports           81.53\n",
       "Role-Playing     64.00\n",
       "Misc             38.19"
      ]
     },
     "metadata": {},
     "output_type": "display_data"
    },
    {
     "data": {
      "image/png": "[encoded data removed]",
      "text/plain": [
       "<Figure size 432x288 with 1 Axes>"
      ]
     },
     "metadata": {},
     "output_type": "display_data"
    }
   ],
   "source": [
    "NA_genre = data_2012.pivot_table(index = 'genre', values = 'NA_sales', aggfunc = 'sum').sort_values(by = 'NA_sales', ascending=False)\n",
    "print('Топ-5 жанров в Северной Америке')\n",
    "display(NA_genre.head(5))\n",
    "top_5_na_genre = NA_genre.head(5)\n",
    "top_5_na_genre.plot(kind='pie', y='NA_sales', autopct='%1.1f%%', startangle=90, fontsize=16, legend=False) \n",
    "plt.ylabel(' ')\n",
    "plt.title('Топ-5 лидеров жанров в Северной Америке')\n",
    "plt.show()"
   ]
  },
  {
   "cell_type": "markdown",
   "id": "f30e61e0",
   "metadata": {},
   "source": [
    "Европа"
   ]
  },
  {
   "cell_type": "code",
   "execution_count": 55,
   "id": "21b5f6a3",
   "metadata": {},
   "outputs": [
    {
     "name": "stdout",
     "output_type": "stream",
     "text": [
      "Топ-5 жанров в Европе\n"
     ]
    },
    {
     "data": {
      "text/html": [
       "<div>\n",
       "<style scoped>\n",
       "    .dataframe tbody tr th:only-of-type {\n",
       "        vertical-align: middle;\n",
       "    }\n",
       "\n",
       "    .dataframe tbody tr th {\n",
       "        vertical-align: top;\n",
       "    }\n",
       "\n",
       "    .dataframe thead th {\n",
       "        text-align: right;\n",
       "    }\n",
       "</style>\n",
       "<table border=\"1\" class=\"dataframe\">\n",
       "  <thead>\n",
       "    <tr style=\"text-align: right;\">\n",
       "      <th></th>\n",
       "      <th>EU_sales</th>\n",
       "    </tr>\n",
       "    <tr>\n",
       "      <th>genre</th>\n",
       "      <th></th>\n",
       "    </tr>\n",
       "  </thead>\n",
       "  <tbody>\n",
       "    <tr>\n",
       "      <th>Action</th>\n",
       "      <td>159.34</td>\n",
       "    </tr>\n",
       "    <tr>\n",
       "      <th>Shooter</th>\n",
       "      <td>113.47</td>\n",
       "    </tr>\n",
       "    <tr>\n",
       "      <th>Sports</th>\n",
       "      <td>69.09</td>\n",
       "    </tr>\n",
       "    <tr>\n",
       "      <th>Role-Playing</th>\n",
       "      <td>48.53</td>\n",
       "    </tr>\n",
       "    <tr>\n",
       "      <th>Racing</th>\n",
       "      <td>27.29</td>\n",
       "    </tr>\n",
       "  </tbody>\n",
       "</table>\n",
       "</div>"
      ],
      "text/plain": [
       "              EU_sales\n",
       "genre                 \n",
       "Action          159.34\n",
       "Shooter         113.47\n",
       "Sports           69.09\n",
       "Role-Playing     48.53\n",
       "Racing           27.29"
      ]
     },
     "metadata": {},
     "output_type": "display_data"
    }
   ],
   "source": [
    "EU_genre = data_2012.pivot_table(index = 'genre', values = 'EU_sales', aggfunc = 'sum').sort_values(by = 'EU_sales', ascending=False)\n",
    "print('Топ-5 жанров в Европе')\n",
    "display(EU_genre.head(5))"
   ]
  },
  {
   "cell_type": "code",
   "execution_count": 56,
   "id": "9f89c88b",
   "metadata": {},
   "outputs": [
    {
     "data": {
      "image/png": "[encoded data removed]",
      "text/plain": [
       "<Figure size 432x288 with 1 Axes>"
      ]
     },
     "metadata": {},
     "output_type": "display_data"
    }
   ],
   "source": [
    "top_5_eu_genre = EU_genre.head(5)\n",
    "top_5_eu_genre.plot(kind='pie', y='EU_sales', autopct='%1.1f%%', startangle=90, fontsize=16, legend=False) \n",
    "plt.ylabel(' ')\n",
    "plt.title('Топ-5 лидеров жанров в Европе')\n",
    "plt.show()"
   ]
  },
  {
   "cell_type": "markdown",
   "id": "febbe097",
   "metadata": {},
   "source": [
    "В европейских странах и на Северо-Американском континенте больше всего играют в 'Action', 'Shooter'  и 'Sports'."
   ]
  },
  {
   "cell_type": "markdown",
   "id": "af7a9f56",
   "metadata": {},
   "source": [
    "Япония"
   ]
  },
  {
   "cell_type": "code",
   "execution_count": 57,
   "id": "3dd90739",
   "metadata": {},
   "outputs": [
    {
     "name": "stdout",
     "output_type": "stream",
     "text": [
      "Топ-5 жанров в Японии\n"
     ]
    },
    {
     "data": {
      "text/html": [
       "<div>\n",
       "<style scoped>\n",
       "    .dataframe tbody tr th:only-of-type {\n",
       "        vertical-align: middle;\n",
       "    }\n",
       "\n",
       "    .dataframe tbody tr th {\n",
       "        vertical-align: top;\n",
       "    }\n",
       "\n",
       "    .dataframe thead th {\n",
       "        text-align: right;\n",
       "    }\n",
       "</style>\n",
       "<table border=\"1\" class=\"dataframe\">\n",
       "  <thead>\n",
       "    <tr style=\"text-align: right;\">\n",
       "      <th></th>\n",
       "      <th>JP_sales</th>\n",
       "    </tr>\n",
       "    <tr>\n",
       "      <th>genre</th>\n",
       "      <th></th>\n",
       "    </tr>\n",
       "  </thead>\n",
       "  <tbody>\n",
       "    <tr>\n",
       "      <th>Role-Playing</th>\n",
       "      <td>65.44</td>\n",
       "    </tr>\n",
       "    <tr>\n",
       "      <th>Action</th>\n",
       "      <td>52.80</td>\n",
       "    </tr>\n",
       "    <tr>\n",
       "      <th>Misc</th>\n",
       "      <td>12.86</td>\n",
       "    </tr>\n",
       "    <tr>\n",
       "      <th>Simulation</th>\n",
       "      <td>10.41</td>\n",
       "    </tr>\n",
       "    <tr>\n",
       "      <th>Fighting</th>\n",
       "      <td>9.44</td>\n",
       "    </tr>\n",
       "  </tbody>\n",
       "</table>\n",
       "</div>"
      ],
      "text/plain": [
       "              JP_sales\n",
       "genre                 \n",
       "Role-Playing     65.44\n",
       "Action           52.80\n",
       "Misc             12.86\n",
       "Simulation       10.41\n",
       "Fighting          9.44"
      ]
     },
     "metadata": {},
     "output_type": "display_data"
    },
    {
     "data": {
      "image/png": "[encoded data removed]",
      "text/plain": [
       "<Figure size 432x288 with 1 Axes>"
      ]
     },
     "metadata": {},
     "output_type": "display_data"
    }
   ],
   "source": [
    "JP_genre = data_2012.pivot_table(index = 'genre', values = 'JP_sales', aggfunc = 'sum').sort_values(by = 'JP_sales', ascending=False)\n",
    "print('Топ-5 жанров в Японии')\n",
    "display(JP_genre.head(5))\n",
    "top_5_jp_genre = JP_genre.head(5)\n",
    "top_5_jp_genre.plot(kind='pie', y='JP_sales', autopct='%1.1f%%', startangle=90, fontsize=16, legend=False) \n",
    "plt.ylabel(' ')\n",
    "plt.title('Топ-5 лидеров жанров в Японии')\n",
    "plt.show()"
   ]
  },
  {
   "cell_type": "markdown",
   "id": "f7293715",
   "metadata": {},
   "source": [
    "В Японии предпочитают Role-Playing и Action. Остальные жанры не пользуются такой сильной популярностью."
   ]
  },
  {
   "cell_type": "markdown",
   "id": "25e1dd74",
   "metadata": {},
   "source": [
    "##### Влияет ли рейтинг ESRB на продажи в отдельном регионе?"
   ]
  },
  {
   "cell_type": "code",
   "execution_count": 58,
   "id": "d53c968e",
   "metadata": {},
   "outputs": [
    {
     "data": {
      "text/html": [
       "<div>\n",
       "<style scoped>\n",
       "    .dataframe tbody tr th:only-of-type {\n",
       "        vertical-align: middle;\n",
       "    }\n",
       "\n",
       "    .dataframe tbody tr th {\n",
       "        vertical-align: top;\n",
       "    }\n",
       "\n",
       "    .dataframe thead th {\n",
       "        text-align: right;\n",
       "    }\n",
       "</style>\n",
       "<table border=\"1\" class=\"dataframe\">\n",
       "  <thead>\n",
       "    <tr style=\"text-align: right;\">\n",
       "      <th></th>\n",
       "      <th>rating</th>\n",
       "      <th>NA_sales</th>\n",
       "      <th>NA_ratio</th>\n",
       "    </tr>\n",
       "  </thead>\n",
       "  <tbody>\n",
       "    <tr>\n",
       "      <th>0</th>\n",
       "      <td>M</td>\n",
       "      <td>231.57</td>\n",
       "      <td>0.392</td>\n",
       "    </tr>\n",
       "    <tr>\n",
       "      <th>1</th>\n",
       "      <td>E</td>\n",
       "      <td>114.37</td>\n",
       "      <td>0.194</td>\n",
       "    </tr>\n",
       "    <tr>\n",
       "      <th>2</th>\n",
       "      <td>unknown</td>\n",
       "      <td>103.31</td>\n",
       "      <td>0.175</td>\n",
       "    </tr>\n",
       "    <tr>\n",
       "      <th>3</th>\n",
       "      <td>E10+</td>\n",
       "      <td>75.70</td>\n",
       "      <td>0.128</td>\n",
       "    </tr>\n",
       "    <tr>\n",
       "      <th>4</th>\n",
       "      <td>T</td>\n",
       "      <td>66.02</td>\n",
       "      <td>0.112</td>\n",
       "    </tr>\n",
       "  </tbody>\n",
       "</table>\n",
       "</div>"
      ],
      "text/plain": [
       "    rating  NA_sales  NA_ratio\n",
       "0        M    231.57     0.392\n",
       "1        E    114.37     0.194\n",
       "2  unknown    103.31     0.175\n",
       "3     E10+     75.70     0.128\n",
       "4        T     66.02     0.112"
      ]
     },
     "execution_count": 58,
     "metadata": {},
     "output_type": "execute_result"
    }
   ],
   "source": [
    "na_rating_sales = (data_2012\n",
    "                                .pivot_table(index='rating', values='NA_sales', aggfunc='sum')\n",
    "                                .sort_values(by='NA_sales', ascending=False)\n",
    "                                .reset_index()\n",
    "                   )\n",
    "na_rating_sales['NA_ratio'] = round(na_rating_sales['NA_sales'] / sum(na_rating_sales['NA_sales']), 3)\n",
    "na_rating_sales"
   ]
  },
  {
   "cell_type": "markdown",
   "id": "51764a07",
   "metadata": {},
   "source": [
    "В Северной Америке наиболее продаваемыми играми за анализируемый период являются игры c рейтингом M (\"для взрослых\") - 39% от продаж;\n",
    "\n",
    "на втором месте игры с рейтингом E (\"для всех\") - 19.4%;\n",
    "\n",
    "на третьем месте игры , которые мы пометили, как неопределенный рейтинг - 17.5% \n",
    "\n",
    "на четвёртом месте игры с рейтингом E10+ (\"для всех от 10 лет и старше\") - почти 13%; \n",
    "\n",
    "на пятом месте игры с рейтингом T (\"подросткам\") - 11%.  \n"
   ]
  },
  {
   "cell_type": "code",
   "execution_count": 59,
   "id": "d57aefb4",
   "metadata": {},
   "outputs": [
    {
     "data": {
      "text/html": [
       "<div>\n",
       "<style scoped>\n",
       "    .dataframe tbody tr th:only-of-type {\n",
       "        vertical-align: middle;\n",
       "    }\n",
       "\n",
       "    .dataframe tbody tr th {\n",
       "        vertical-align: top;\n",
       "    }\n",
       "\n",
       "    .dataframe thead th {\n",
       "        text-align: right;\n",
       "    }\n",
       "</style>\n",
       "<table border=\"1\" class=\"dataframe\">\n",
       "  <thead>\n",
       "    <tr style=\"text-align: right;\">\n",
       "      <th></th>\n",
       "      <th>rating</th>\n",
       "      <th>EU_sales</th>\n",
       "      <th>EU_ratio</th>\n",
       "    </tr>\n",
       "  </thead>\n",
       "  <tbody>\n",
       "    <tr>\n",
       "      <th>0</th>\n",
       "      <td>M</td>\n",
       "      <td>193.96</td>\n",
       "      <td>0.383</td>\n",
       "    </tr>\n",
       "    <tr>\n",
       "      <th>1</th>\n",
       "      <td>E</td>\n",
       "      <td>113.03</td>\n",
       "      <td>0.223</td>\n",
       "    </tr>\n",
       "    <tr>\n",
       "      <th>2</th>\n",
       "      <td>unknown</td>\n",
       "      <td>91.50</td>\n",
       "      <td>0.181</td>\n",
       "    </tr>\n",
       "    <tr>\n",
       "      <th>3</th>\n",
       "      <td>E10+</td>\n",
       "      <td>55.37</td>\n",
       "      <td>0.109</td>\n",
       "    </tr>\n",
       "    <tr>\n",
       "      <th>4</th>\n",
       "      <td>T</td>\n",
       "      <td>52.96</td>\n",
       "      <td>0.104</td>\n",
       "    </tr>\n",
       "  </tbody>\n",
       "</table>\n",
       "</div>"
      ],
      "text/plain": [
       "    rating  EU_sales  EU_ratio\n",
       "0        M    193.96     0.383\n",
       "1        E    113.03     0.223\n",
       "2  unknown     91.50     0.181\n",
       "3     E10+     55.37     0.109\n",
       "4        T     52.96     0.104"
      ]
     },
     "execution_count": 59,
     "metadata": {},
     "output_type": "execute_result"
    }
   ],
   "source": [
    "eu_rating_sales = (data_2012\n",
    "                                .pivot_table(index='rating', values='EU_sales', aggfunc='sum')\n",
    "                                .sort_values(by='EU_sales', ascending=False)\n",
    "                                .reset_index()\n",
    "                   )\n",
    "eu_rating_sales['EU_ratio'] = round(eu_rating_sales['EU_sales'] / sum(eu_rating_sales['EU_sales']), 3)\n",
    "eu_rating_sales"
   ]
  },
  {
   "cell_type": "code",
   "execution_count": 60,
   "id": "9dadca3f",
   "metadata": {},
   "outputs": [
    {
     "data": {
      "text/html": [
       "<div>\n",
       "<style scoped>\n",
       "    .dataframe tbody tr th:only-of-type {\n",
       "        vertical-align: middle;\n",
       "    }\n",
       "\n",
       "    .dataframe tbody tr th {\n",
       "        vertical-align: top;\n",
       "    }\n",
       "\n",
       "    .dataframe thead th {\n",
       "        text-align: right;\n",
       "    }\n",
       "</style>\n",
       "<table border=\"1\" class=\"dataframe\">\n",
       "  <thead>\n",
       "    <tr style=\"text-align: right;\">\n",
       "      <th></th>\n",
       "      <th>rating</th>\n",
       "      <th>JP_sales</th>\n",
       "      <th>JP_ratio</th>\n",
       "    </tr>\n",
       "  </thead>\n",
       "  <tbody>\n",
       "    <tr>\n",
       "      <th>0</th>\n",
       "      <td>unknown</td>\n",
       "      <td>108.84</td>\n",
       "      <td>0.565</td>\n",
       "    </tr>\n",
       "    <tr>\n",
       "      <th>1</th>\n",
       "      <td>E</td>\n",
       "      <td>28.33</td>\n",
       "      <td>0.147</td>\n",
       "    </tr>\n",
       "    <tr>\n",
       "      <th>2</th>\n",
       "      <td>T</td>\n",
       "      <td>26.02</td>\n",
       "      <td>0.135</td>\n",
       "    </tr>\n",
       "    <tr>\n",
       "      <th>3</th>\n",
       "      <td>M</td>\n",
       "      <td>21.20</td>\n",
       "      <td>0.110</td>\n",
       "    </tr>\n",
       "    <tr>\n",
       "      <th>4</th>\n",
       "      <td>E10+</td>\n",
       "      <td>8.19</td>\n",
       "      <td>0.043</td>\n",
       "    </tr>\n",
       "  </tbody>\n",
       "</table>\n",
       "</div>"
      ],
      "text/plain": [
       "    rating  JP_sales  JP_ratio\n",
       "0  unknown    108.84     0.565\n",
       "1        E     28.33     0.147\n",
       "2        T     26.02     0.135\n",
       "3        M     21.20     0.110\n",
       "4     E10+      8.19     0.043"
      ]
     },
     "execution_count": 60,
     "metadata": {},
     "output_type": "execute_result"
    }
   ],
   "source": [
    "jp_rating_sales = (data_2012\n",
    "                                .pivot_table(index='rating', values='JP_sales', aggfunc='sum')\n",
    "                                .sort_values(by='JP_sales', ascending=False)\n",
    "                                .reset_index()\n",
    "                   )\n",
    "jp_rating_sales['JP_ratio'] = round(jp_rating_sales['JP_sales'] / sum(jp_rating_sales['JP_sales']), 3)\n",
    "jp_rating_sales"
   ]
  },
  {
   "cell_type": "markdown",
   "id": "5af81fd7",
   "metadata": {},
   "source": [
    "В Японии больше половины игр не имеют рейтинга, т.к. в стране используется свой национальный рейтинг для классификации игр по возратсным ограничениям.   \n",
    "\n",
    "Таким образом, в Северной Америке и Европе схожая структура продаж по рейтингу игр. В Японии предпочтения отличаются: подростковые игры более популярны, чем игры для взрослых. На игры для детей младшего возраста нет спроса ни в одном регионе."
   ]
  },
  {
   "cell_type": "markdown",
   "id": "a29d850f",
   "metadata": {},
   "source": [
    "Сложно сказать о каком-либо влиянии, т.к. прямой зависимости от оценок пользователей и критиков ранее не было выявлено. Думаю, что рейтинг от ESRB так же не оказывает существенного влияния на объем продаж."
   ]
  },
  {
   "cell_type": "markdown",
   "id": "53ff198a",
   "metadata": {},
   "source": [
    "### Шаг 5. Проверка статистических гипотез"
   ]
  },
  {
   "cell_type": "markdown",
   "id": "07abdb32",
   "metadata": {},
   "source": [
    "#### Гипотеза о равенстве средних пользовательских рейтингов платформ Xbox One и PC"
   ]
  },
  {
   "cell_type": "markdown",
   "id": "8caa9d3a",
   "metadata": {},
   "source": [
    "Сделаем выборки для проверки гипотез. Отберем данные по выбранным платформам, и будем учитывать только те игры, которые имеют оценку пользователя."
   ]
  },
  {
   "cell_type": "code",
   "execution_count": 61,
   "id": "02848166",
   "metadata": {},
   "outputs": [],
   "source": [
    "xboxone = data_2012[(data_2012['platform'] == 'XOne') & (data_2012['user_score'] > 0)]['user_score']\n",
    "pc_games = data_2012[(data_2012['platform'] == 'PC') & (data_2012['user_score'] > 0)]['user_score']"
   ]
  },
  {
   "cell_type": "markdown",
   "id": "ecc32f69",
   "metadata": {},
   "source": [
    "Сформулируем нулевую гипотезу H0: Средние двух генеральных совокупностей равны между собой.\n",
    "\n",
    "Альтернативная гипотеза H1: Средние двух генеральных совокупностей не равны между собой.\n",
    "\n",
    "Согласно центральной предельной теореме, выборочные средние распределены нормально вокруг истинного среднего генеральной совокупности. Введём уровень значимости, определяющий близость к среднему значению: 5%.\n",
    "\n",
    "Проверим гипотезы через распределение t-Стьюдента, так как сравниваемые выборки независимы между собой."
   ]
  },
  {
   "cell_type": "code",
   "execution_count": 62,
   "id": "e4a8674f",
   "metadata": {},
   "outputs": [
    {
     "name": "stdout",
     "output_type": "stream",
     "text": [
      "p-значение: 0.5535080500643661\n",
      "Не получилось отвергнуть нулевую гипотезу.\n"
     ]
    }
   ],
   "source": [
    "alpha = 0.05\n",
    "\n",
    "results = st.ttest_ind(xboxone, pc_games)\n",
    "print('p-значение:', results.pvalue)\n",
    "\n",
    "if results.pvalue < alpha:\n",
    "    print('Отвергаем нулевую гипотезу.')\n",
    "else:\n",
    "    print('Не получилось отвергнуть нулевую гипотезу.')"
   ]
  },
  {
   "cell_type": "code",
   "execution_count": 63,
   "id": "7e10d271",
   "metadata": {},
   "outputs": [
    {
     "data": {
      "text/plain": [
       "(6.521428571428572, 6.4286407766990274)"
      ]
     },
     "execution_count": 63,
     "metadata": {},
     "output_type": "execute_result"
    }
   ],
   "source": [
    "xboxone.mean(), pc_games.mean()"
   ]
  },
  {
   "cell_type": "markdown",
   "id": "0ce51c95",
   "metadata": {},
   "source": [
    "Вывод: средние пользовательские рейтинги платформ Xbox One и PC равны между собой."
   ]
  },
  {
   "cell_type": "markdown",
   "id": "ff30169a",
   "metadata": {},
   "source": [
    "#### Гипотеза о различии средних пользовательских рейтингов жанров Action и Sports"
   ]
  },
  {
   "cell_type": "markdown",
   "id": "56d212c7",
   "metadata": {},
   "source": [
    "По аналогии с предыдущей гипотезой сделаем выборки:"
   ]
  },
  {
   "cell_type": "code",
   "execution_count": 64,
   "id": "d78f0757",
   "metadata": {},
   "outputs": [],
   "source": [
    "action = data_2012[(data_2012['genre'] == 'Action') & (data_2012['user_score'] > 0)]['user_score']\n",
    "sports = data_2012[(data_2012['genre'] == 'Sports') & (data_2012['user_score'] > 0)]['user_score']"
   ]
  },
  {
   "cell_type": "markdown",
   "id": "9232474d",
   "metadata": {},
   "source": [
    "Сформулируем нулевую гипотезу H0: Средние двух генеральных совокупностей равны между собой.\n",
    "\n",
    "Альтернативная гипотеза H1: Средние двух генеральных совокупностей не равны между собой."
   ]
  },
  {
   "cell_type": "code",
   "execution_count": 65,
   "id": "eca3dd05",
   "metadata": {},
   "outputs": [
    {
     "name": "stdout",
     "output_type": "stream",
     "text": [
      "p-значение: 3.7163089460934874e-26\n",
      "Отвергаем нулевую гипотезу\n"
     ]
    }
   ],
   "source": [
    "alpha = 0.05\n",
    "\n",
    "results = st.ttest_ind(action, sports)\n",
    "print('p-значение:', results.pvalue)\n",
    "\n",
    "if (results.pvalue < alpha):\n",
    "    print('Отвергаем нулевую гипотезу')\n",
    "else:\n",
    "    print('Не получилось отвергнуть нулевую гипотезу')"
   ]
  },
  {
   "cell_type": "markdown",
   "id": "a0334177",
   "metadata": {},
   "source": [
    "Вывод: средние пользовательские рейтинги жанров Action и Sports не равны."
   ]
  },
  {
   "cell_type": "markdown",
   "id": "f20baeb7",
   "metadata": {},
   "source": [
    "Для проверки обоих гипотез был выбрана гипотеза о равенстве средних двух генеральных совокупностей. В первом и втором случае имеются две независимые генеральные совокупности. В результате получили, что гипотеза о том, что средние пользовательские рейтинги платформ Xbox One и PC одинаковые - не отвергается. А гипотеза о том, что средние пользовательские рейтинги жанров Action и Sports разные - потвердилась."
   ]
  },
  {
   "cell_type": "markdown",
   "id": "f99d8bff",
   "metadata": {},
   "source": [
    "### Шаг 6. Oбщий вывод"
   ]
  },
  {
   "cell_type": "markdown",
   "id": "37bb2b02",
   "metadata": {},
   "source": [
    "1. Перед анализом данных, была проведена предобработку данных: приведены имена столбцов к нижнему регистру , где требовалось был изменен тип данных. Удалены пропуски в столбцах. Отсутсвующие значения заполнены по мере возможности. Проведена проверка на дубликаты.  \n",
    "2. Установлено, что аббревиатура TBD значит \"to be determined\". Поэтому  tbd было заменено на nan для проведения дальнейшего анализа.  \n",
    "3. Проводя анализ, выявлено, что быстрый рост выпуска игр начинается с 1995 года. Пик на консольные и компьютерный игры приходится на 2008-2009 года, далее начинается спад.Самые популярные игровые платформы за все время: PS, DS, WII, PS3, X360, PS2. Практически все игровые платформы в среднем существуют около 10 лет. Самый пик для игры наступает примерно в середине жизни пплатформы. PC самая долгоживущая платформа. Актуальный период для прогноза на 2017 взяли с 2012 по 2016 года. Данный период выбран в связи с тем, что уже остались только актуальные платформы.  \n",
    "\n",
    "По данным видно, что практически все платформы находятся в стадии снижения показателей. Потенциально прибыльными платформами можно считать: PS4, XONE.\n",
    "Оцека критиками и оценка пользователями не оказывает особого влияния на продажи на рынках в Европе и Америке, при этом  пользовательские оценки в Японии имеют некоторое влияние.\n",
    "Так же установлено, что рынки Америки и Европы схожи, а вот рынок Японии в некотором смысле уникален, со своими рейтингами, жанрами, платформами.  \n",
    "\n",
    "Согласно полученным данным, можно сделать следующий вывод: чтобы успешно продавать игры в 2017 году,  необходимо следовать следующим тенденциям.  \n",
    "* обращать внимание на жанр игры (для Японии лучше продвать игры жанра role-playing, а для Северной Америки и Европы продавать игры жанров - action, sports и shooter).  \n",
    "* также необходимо ориентироваться на платформы. Для Северной Америки - это платформа Xbox 360 и платформа Xbox one, для Европы - это Xbox 360/one и PS3/4, а вот в Японии - это DS/3DS и PS3/4.   \n",
    "* можно предположить, что самые перспективные платформы для продаж игр на 2017 год являются Xbox Оne и PS4, так как они имели самые высокие показатели по продажам игр в 2016 году.\n",
    "* ориентироваться при продаже игр на пользовательские оценки не стоит. И не придавать большого значения оценкам критиков, но принимать их во внимание;  \n",
    "* учитывая, что срок жизни платформы составляет 8-10 лет, не продавать игры на платформах, для которых этот срок приближается к 6-8 годам, так как основной доход можно получить от продаж игр на более молодых платформах, а не доживающих свой век."
   ]
  }
 ],
 "metadata": {
  "ExecuteTimeLog": [
   {
    "duration": 1399,
    "start_time": "2024-03-29T06:31:46.397Z"
   },
   {
    "duration": 1461,
    "start_time": "2024-03-29T06:31:47.798Z"
   },
   {
    "duration": 15,
    "start_time": "2024-03-29T06:31:49.261Z"
   },
   {
    "duration": 4,
    "start_time": "2024-03-29T06:31:49.278Z"
   },
   {
    "duration": 69,
    "start_time": "2024-03-29T06:31:49.284Z"
   },
   {
    "duration": 9,
    "start_time": "2024-03-29T06:31:49.355Z"
   },
   {
    "duration": 5,
    "start_time": "2024-03-29T06:31:49.365Z"
   },
   {
    "duration": 8,
    "start_time": "2024-03-29T06:31:49.372Z"
   },
   {
    "duration": 9,
    "start_time": "2024-03-29T06:31:49.381Z"
   },
   {
    "duration": 27,
    "start_time": "2024-03-29T06:31:49.392Z"
   },
   {
    "duration": 5,
    "start_time": "2024-03-29T06:31:49.420Z"
   },
   {
    "duration": 5,
    "start_time": "2024-03-29T06:31:49.427Z"
   },
   {
    "duration": 13,
    "start_time": "2024-03-29T06:31:49.433Z"
   },
   {
    "duration": 19,
    "start_time": "2024-03-29T06:31:49.447Z"
   },
   {
    "duration": 3,
    "start_time": "2024-03-29T06:31:49.468Z"
   },
   {
    "duration": 6,
    "start_time": "2024-03-29T06:31:49.472Z"
   },
   {
    "duration": 6,
    "start_time": "2024-03-29T06:31:49.479Z"
   },
   {
    "duration": 36,
    "start_time": "2024-03-29T06:31:49.486Z"
   },
   {
    "duration": 23,
    "start_time": "2024-03-29T06:31:49.523Z"
   },
   {
    "duration": 16,
    "start_time": "2024-03-29T06:31:49.548Z"
   },
   {
    "duration": 339,
    "start_time": "2024-03-29T06:31:49.566Z"
   },
   {
    "duration": 5,
    "start_time": "2024-03-29T06:31:49.906Z"
   },
   {
    "duration": 266,
    "start_time": "2024-03-29T06:31:49.918Z"
   },
   {
    "duration": 15,
    "start_time": "2024-03-29T06:31:50.186Z"
   },
   {
    "duration": 382,
    "start_time": "2024-03-29T06:31:50.203Z"
   },
   {
    "duration": 5,
    "start_time": "2024-03-29T06:31:50.586Z"
   },
   {
    "duration": 361,
    "start_time": "2024-03-29T06:31:50.592Z"
   },
   {
    "duration": 23,
    "start_time": "2024-03-29T06:31:50.956Z"
   },
   {
    "duration": 288,
    "start_time": "2024-03-29T06:31:50.980Z"
   },
   {
    "duration": 262,
    "start_time": "2024-03-29T06:31:51.270Z"
   },
   {
    "duration": 42,
    "start_time": "2024-03-29T06:31:51.533Z"
   },
   {
    "duration": 15,
    "start_time": "2024-03-29T06:31:51.577Z"
   },
   {
    "duration": 27,
    "start_time": "2024-03-29T06:31:51.593Z"
   },
   {
    "duration": 121,
    "start_time": "2024-03-29T06:31:51.622Z"
   },
   {
    "duration": 0,
    "start_time": "2024-03-29T06:31:51.744Z"
   },
   {
    "duration": 0,
    "start_time": "2024-03-29T06:31:51.746Z"
   },
   {
    "duration": 0,
    "start_time": "2024-03-29T06:31:51.747Z"
   },
   {
    "duration": 0,
    "start_time": "2024-03-29T06:31:51.749Z"
   },
   {
    "duration": 0,
    "start_time": "2024-03-29T06:31:51.750Z"
   },
   {
    "duration": 0,
    "start_time": "2024-03-29T06:31:51.751Z"
   },
   {
    "duration": 0,
    "start_time": "2024-03-29T06:31:51.752Z"
   },
   {
    "duration": 0,
    "start_time": "2024-03-29T06:31:51.754Z"
   },
   {
    "duration": 0,
    "start_time": "2024-03-29T06:31:51.755Z"
   },
   {
    "duration": 0,
    "start_time": "2024-03-29T06:31:51.756Z"
   },
   {
    "duration": 0,
    "start_time": "2024-03-29T06:31:51.757Z"
   },
   {
    "duration": 1,
    "start_time": "2024-03-29T06:31:51.758Z"
   },
   {
    "duration": 0,
    "start_time": "2024-03-29T06:31:51.760Z"
   },
   {
    "duration": 0,
    "start_time": "2024-03-29T06:31:51.761Z"
   },
   {
    "duration": 0,
    "start_time": "2024-03-29T06:31:51.763Z"
   },
   {
    "duration": 0,
    "start_time": "2024-03-29T06:31:51.764Z"
   },
   {
    "duration": 0,
    "start_time": "2024-03-29T06:31:51.765Z"
   },
   {
    "duration": 0,
    "start_time": "2024-03-29T06:31:51.766Z"
   },
   {
    "duration": 0,
    "start_time": "2024-03-29T06:31:51.767Z"
   },
   {
    "duration": 0,
    "start_time": "2024-03-29T06:31:51.768Z"
   },
   {
    "duration": 0,
    "start_time": "2024-03-29T06:31:51.769Z"
   },
   {
    "duration": 0,
    "start_time": "2024-03-29T06:31:51.770Z"
   },
   {
    "duration": 522,
    "start_time": "2024-03-29T06:32:18.556Z"
   },
   {
    "duration": 15,
    "start_time": "2024-03-29T06:32:20.677Z"
   },
   {
    "duration": 3,
    "start_time": "2024-03-29T06:32:33.934Z"
   },
   {
    "duration": 264,
    "start_time": "2024-03-29T06:32:35.491Z"
   },
   {
    "duration": 5,
    "start_time": "2024-03-29T06:33:33.863Z"
   },
   {
    "duration": 302,
    "start_time": "2024-03-29T06:33:35.599Z"
   },
   {
    "duration": 7,
    "start_time": "2024-03-29T06:33:41.530Z"
   },
   {
    "duration": 7,
    "start_time": "2024-03-29T06:33:56.744Z"
   },
   {
    "duration": 307,
    "start_time": "2024-03-29T06:34:56.796Z"
   },
   {
    "duration": 8,
    "start_time": "2024-03-29T06:35:02.149Z"
   },
   {
    "duration": 6,
    "start_time": "2024-03-29T06:35:02.743Z"
   },
   {
    "duration": 163,
    "start_time": "2024-03-29T06:37:27.224Z"
   },
   {
    "duration": 40,
    "start_time": "2024-03-29T06:37:27.711Z"
   },
   {
    "duration": 13,
    "start_time": "2024-03-29T06:37:39.156Z"
   },
   {
    "duration": 181,
    "start_time": "2024-03-29T06:37:41.742Z"
   },
   {
    "duration": 13,
    "start_time": "2024-03-29T06:37:45.068Z"
   },
   {
    "duration": 98,
    "start_time": "2024-03-29T06:37:45.575Z"
   },
   {
    "duration": 13,
    "start_time": "2024-03-29T06:37:48.017Z"
   },
   {
    "duration": 97,
    "start_time": "2024-03-29T06:37:48.772Z"
   },
   {
    "duration": 110,
    "start_time": "2024-03-29T06:37:52.465Z"
   },
   {
    "duration": 13,
    "start_time": "2024-03-29T06:37:53.815Z"
   },
   {
    "duration": 96,
    "start_time": "2024-03-29T06:37:54.680Z"
   },
   {
    "duration": 106,
    "start_time": "2024-03-29T06:37:56.834Z"
   },
   {
    "duration": 17,
    "start_time": "2024-03-29T06:37:58.542Z"
   },
   {
    "duration": 17,
    "start_time": "2024-03-29T06:37:59.773Z"
   },
   {
    "duration": 18,
    "start_time": "2024-03-29T06:38:00.538Z"
   },
   {
    "duration": 9,
    "start_time": "2024-03-29T06:38:04.689Z"
   },
   {
    "duration": 5,
    "start_time": "2024-03-29T06:38:08.016Z"
   },
   {
    "duration": 4,
    "start_time": "2024-03-29T06:38:08.642Z"
   },
   {
    "duration": 6,
    "start_time": "2024-03-29T06:38:11.262Z"
   },
   {
    "duration": 6,
    "start_time": "2024-03-29T06:38:12.455Z"
   },
   {
    "duration": 292,
    "start_time": "2024-03-29T06:55:45.692Z"
   },
   {
    "duration": 170,
    "start_time": "2024-03-29T06:56:21.755Z"
   }
  ],
  "kernelspec": {
   "display_name": "Python 3 (ipykernel)",
   "language": "python",
   "name": "python3"
  },
  "language_info": {
   "codemirror_mode": {
    "name": "ipython",
    "version": 3
   },
   "file_extension": ".py",
   "mimetype": "text/x-python",
   "name": "python",
   "nbconvert_exporter": "python",
   "pygments_lexer": "ipython3",
   "version": "3.11.5"
  },
  "toc": {
   "base_numbering": 1,
   "nav_menu": {},
   "number_sections": true,
   "sideBar": true,
   "skip_h1_title": true,
   "title_cell": "Table of Contents",
   "title_sidebar": "Contents",
   "toc_cell": false,
   "toc_position": {},
   "toc_section_display": true,
   "toc_window_display": false
  }
 },
 "nbformat": 4,
 "nbformat_minor": 5
}
